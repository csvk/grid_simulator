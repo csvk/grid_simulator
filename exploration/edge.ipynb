{
 "cells": [
  {
   "cell_type": "code",
   "execution_count": 1,
   "metadata": {},
   "outputs": [],
   "source": [
    "import sys\n",
    "sys.path.append(\"../\")"
   ]
  },
  {
   "cell_type": "code",
   "execution_count": 2,
   "metadata": {},
   "outputs": [],
   "source": [
    "import pandas as pd\n",
    "import datetime as dt\n",
    "import math\n",
    "import plotly.graph_objects as go\n",
    "from plotting import CandlePlot\n",
    "pd.set_option(\"display.max_columns\", None)"
   ]
  },
  {
   "cell_type": "code",
   "execution_count": 3,
   "metadata": {},
   "outputs": [],
   "source": [
    "class Data:\n",
    "    \n",
    "    def __init__(self, path):\n",
    "        self.df = {\n",
    "            'raw': pd.read_pickle(path)\n",
    "        }\n",
    "        self.df['raw']['time'] = [ x.replace(tzinfo=None) for x in self.df['raw']['time']]\n",
    "\n",
    "    def __repr__(self) -> str:\n",
    "        repr = str()\n",
    "        for name, df in self.df.items():\n",
    "            repr = repr + name + ':\\n' + str(df.head(3)) + '\\n'\n",
    "        return repr\n",
    "\n",
    "    def shorten(self, name: str, rows: int, direction: int, source: str='raw', cols: list=None):\n",
    "        '''Create new dataframe with specified list of columns and number of rows\n",
    "        direction: 1 if data should be selected from top and -1 if from bottom\n",
    "        '''\n",
    "        assert (direction != 1 or direction != -1), 'direction must be 1 (top) or -1 (bottom)'\n",
    "        \n",
    "        if cols == None:\n",
    "            cols = self.df[source].columns\n",
    "        if direction == 1:\n",
    "            self.df[name] = self.df[source][cols].iloc[:rows].copy()\n",
    "        else:\n",
    "            self.df[name] = self.df[source][cols].iloc[-rows:].copy()\n",
    "        self.df[name].reset_index(drop=True, inplace=True)\n",
    "\n",
    "    def add_columns(self, name: str, cols: list):\n",
    "        '''Add new columns to component dataframes\n",
    "        '''        \n",
    "        exist_cols = list(self.df[name].columns)\n",
    "        cols = exist_cols + cols\n",
    "        self.df[name] = self.df[name].reindex(columns = cols) \n",
    "\n",
    "    def prepare_fast_data(self, name: str):\n",
    "        '''Prepare data as an array for fast processing\n",
    "        fcols = {col1: col1_index, col2: col2_index, .... }     \n",
    "        fdata = [array[col1], array[col2], array[col3], .... ]\n",
    "        Accessed by: self.fdata[fcols[column_name]] for whole column or\n",
    "                     self.fdata[fcols[column_name]][row_index] for a specific row item\n",
    "        '''\n",
    "        self.fcols = dict()\n",
    "        for i in range(len(self.df[name].columns)):\n",
    "            self.fcols[self.df[name].columns[i]] = i\n",
    "        self.fdata = [self.df[name][col].array for col in self.df[name].columns]"
   ]
  },
  {
   "cell_type": "code",
   "execution_count": 4,
   "metadata": {},
   "outputs": [],
   "source": [
    "d = Data(\"../data/EUR_USD_M5.pkl\")"
   ]
  },
  {
   "cell_type": "code",
   "execution_count": 5,
   "metadata": {},
   "outputs": [],
   "source": [
    "our_cols = ['time', 'mid_c']\n",
    "max = d.df['raw'].shape[0]\n",
    "d.shorten(name='analysis', rows=max, direction=1, cols=our_cols)"
   ]
  },
  {
   "cell_type": "code",
   "execution_count": 6,
   "metadata": {},
   "outputs": [
    {
     "name": "stdout",
     "output_type": "stream",
     "text": [
      "raw:\n",
      "                 time  volume    mid_o    mid_h    mid_l    mid_c    bid_o  \\\n",
      "0 2016-01-07 00:00:00      74  1.07764  1.07811  1.07759  1.07786  1.07757   \n",
      "1 2016-01-07 00:05:00      98  1.07788  1.07818  1.07764  1.07810  1.07779   \n",
      "2 2016-01-07 00:10:00      28  1.07812  1.07832  1.07812  1.07828  1.07803   \n",
      "\n",
      "     bid_h    bid_l    bid_c    ask_o    ask_h    ask_l    ask_c  \n",
      "0  1.07802  1.07750  1.07777  1.07772  1.07820  1.07768  1.07795  \n",
      "1  1.07811  1.07755  1.07802  1.07798  1.07827  1.07772  1.07819  \n",
      "2  1.07823  1.07803  1.07819  1.07822  1.07840  1.07822  1.07837  \n",
      "analysis:\n",
      "                 time    mid_c\n",
      "0 2016-01-07 00:00:00  1.07786\n",
      "1 2016-01-07 00:05:00  1.07810\n",
      "2 2016-01-07 00:10:00  1.07828\n",
      "\n"
     ]
    }
   ],
   "source": [
    "print(d)"
   ]
  },
  {
   "cell_type": "code",
   "execution_count": 7,
   "metadata": {},
   "outputs": [],
   "source": [
    "d.add_columns(name='analysis', cols=['ma_20', 'ma_50', ''])"
   ]
  },
  {
   "cell_type": "code",
   "execution_count": 13,
   "metadata": {},
   "outputs": [],
   "source": [
    "d.df['analysis']['ma_20'] = d.df['analysis'].mid_c.rolling(window=20).mean()\n",
    "d.df['analysis']['ma_50'] = d.df['analysis'].mid_c.rolling(window=50).mean()\n",
    "d.df['analysis'].dropna(inplace=True)\n",
    "d.df['analysis'].reset_index(drop=True, inplace=True)"
   ]
  },
  {
   "cell_type": "code",
   "execution_count": 14,
   "metadata": {},
   "outputs": [
    {
     "name": "stdout",
     "output_type": "stream",
     "text": [
      "raw:\n",
      "                 time  volume    mid_o    mid_h    mid_l    mid_c    bid_o  \\\n",
      "0 2016-01-07 00:00:00      74  1.07764  1.07811  1.07759  1.07786  1.07757   \n",
      "1 2016-01-07 00:05:00      98  1.07788  1.07818  1.07764  1.07810  1.07779   \n",
      "2 2016-01-07 00:10:00      28  1.07812  1.07832  1.07812  1.07828  1.07803   \n",
      "\n",
      "     bid_h    bid_l    bid_c    ask_o    ask_h    ask_l    ask_c  \n",
      "0  1.07802  1.07750  1.07777  1.07772  1.07820  1.07768  1.07795  \n",
      "1  1.07811  1.07755  1.07802  1.07798  1.07827  1.07772  1.07819  \n",
      "2  1.07823  1.07803  1.07819  1.07822  1.07840  1.07822  1.07837  \n",
      "analysis:\n",
      "                 time    mid_c     ma_20     ma_50\n",
      "0 2016-01-07 04:05:00  1.08168  1.081763  1.080100\n",
      "1 2016-01-07 04:10:00  1.08164  1.081819  1.080175\n",
      "2 2016-01-07 04:15:00  1.08170  1.081840  1.080247\n",
      "\n"
     ]
    }
   ],
   "source": [
    "print(d)"
   ]
  },
  {
   "cell_type": "code",
   "execution_count": 15,
   "metadata": {},
   "outputs": [],
   "source": [
    "d.prepare_fast_data('analysis')"
   ]
  },
  {
   "cell_type": "code",
   "execution_count": 16,
   "metadata": {},
   "outputs": [
    {
     "data": {
      "text/plain": [
       "{'time': 0, 'mid_c': 1, 'ma_20': 2, 'ma_50': 3}"
      ]
     },
     "execution_count": 16,
     "metadata": {},
     "output_type": "execute_result"
    }
   ],
   "source": [
    "d.fcols"
   ]
  },
  {
   "cell_type": "code",
   "execution_count": 17,
   "metadata": {},
   "outputs": [
    {
     "data": {
      "text/html": [
       "<div>\n",
       "<style scoped>\n",
       "    .dataframe tbody tr th:only-of-type {\n",
       "        vertical-align: middle;\n",
       "    }\n",
       "\n",
       "    .dataframe tbody tr th {\n",
       "        vertical-align: top;\n",
       "    }\n",
       "\n",
       "    .dataframe thead th {\n",
       "        text-align: right;\n",
       "    }\n",
       "</style>\n",
       "<table border=\"1\" class=\"dataframe\">\n",
       "  <thead>\n",
       "    <tr style=\"text-align: right;\">\n",
       "      <th></th>\n",
       "      <th>time</th>\n",
       "      <th>mid_c</th>\n",
       "      <th>ma_20</th>\n",
       "      <th>ma_50</th>\n",
       "    </tr>\n",
       "  </thead>\n",
       "  <tbody>\n",
       "    <tr>\n",
       "      <th>0</th>\n",
       "      <td>2016-01-07 04:05:00</td>\n",
       "      <td>1.08168</td>\n",
       "      <td>1.081763</td>\n",
       "      <td>1.080100</td>\n",
       "    </tr>\n",
       "    <tr>\n",
       "      <th>1</th>\n",
       "      <td>2016-01-07 04:10:00</td>\n",
       "      <td>1.08164</td>\n",
       "      <td>1.081819</td>\n",
       "      <td>1.080175</td>\n",
       "    </tr>\n",
       "    <tr>\n",
       "      <th>2</th>\n",
       "      <td>2016-01-07 04:15:00</td>\n",
       "      <td>1.08170</td>\n",
       "      <td>1.081840</td>\n",
       "      <td>1.080247</td>\n",
       "    </tr>\n",
       "  </tbody>\n",
       "</table>\n",
       "</div>"
      ],
      "text/plain": [
       "                 time    mid_c     ma_20     ma_50\n",
       "0 2016-01-07 04:05:00  1.08168  1.081763  1.080100\n",
       "1 2016-01-07 04:10:00  1.08164  1.081819  1.080175\n",
       "2 2016-01-07 04:15:00  1.08170  1.081840  1.080247"
      ]
     },
     "execution_count": 17,
     "metadata": {},
     "output_type": "execute_result"
    }
   ],
   "source": [
    "d.df['analysis'].head(3)"
   ]
  },
  {
   "cell_type": "code",
   "execution_count": null,
   "metadata": {},
   "outputs": [],
   "source": [
    "candles = d.fdata[0].shape[0]\n",
    "for i in range(candles):\n",
    "    "
   ]
  },
  {
   "cell_type": "code",
   "execution_count": null,
   "metadata": {},
   "outputs": [],
   "source": []
  },
  {
   "cell_type": "code",
   "execution_count": null,
   "metadata": {},
   "outputs": [],
   "source": []
  },
  {
   "cell_type": "code",
   "execution_count": null,
   "metadata": {},
   "outputs": [],
   "source": []
  },
  {
   "cell_type": "code",
   "execution_count": null,
   "metadata": {},
   "outputs": [],
   "source": []
  },
  {
   "cell_type": "code",
   "execution_count": null,
   "metadata": {},
   "outputs": [],
   "source": []
  },
  {
   "cell_type": "code",
   "execution_count": null,
   "metadata": {},
   "outputs": [],
   "source": []
  },
  {
   "cell_type": "code",
   "execution_count": null,
   "metadata": {},
   "outputs": [],
   "source": []
  },
  {
   "cell_type": "code",
   "execution_count": null,
   "metadata": {},
   "outputs": [],
   "source": []
  },
  {
   "cell_type": "code",
   "execution_count": null,
   "metadata": {},
   "outputs": [],
   "source": []
  },
  {
   "cell_type": "code",
   "execution_count": null,
   "metadata": {},
   "outputs": [],
   "source": []
  },
  {
   "cell_type": "code",
   "execution_count": null,
   "metadata": {},
   "outputs": [],
   "source": []
  }
 ],
 "metadata": {
  "kernelspec": {
   "display_name": "trade",
   "language": "python",
   "name": "python3"
  },
  "language_info": {
   "codemirror_mode": {
    "name": "ipython",
    "version": 3
   },
   "file_extension": ".py",
   "mimetype": "text/x-python",
   "name": "python",
   "nbconvert_exporter": "python",
   "pygments_lexer": "ipython3",
   "version": "3.10.13"
  }
 },
 "nbformat": 4,
 "nbformat_minor": 2
}
