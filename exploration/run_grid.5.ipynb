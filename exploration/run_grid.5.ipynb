{
 "cells": [
  {
   "cell_type": "code",
   "execution_count": 1,
   "metadata": {},
   "outputs": [],
   "source": [
    "import pandas as pd\n",
    "from gridoptim import run_optimizer\n",
    "pd.set_option(\"display.max_columns\", None)"
   ]
  },
  {
   "cell_type": "code",
   "execution_count": 2,
   "metadata": {},
   "outputs": [
    {
     "name": "stdout",
     "output_type": "stream",
     "text": [
      "sim_name           init_trade_size    grid_pips  stop_loss            sl_grid_count    stoploss_pips    margin_sl_percent  sizing      cash_out_factor\n",
      "EUR_USD-M5-8001               1000           10  margin_grid_count               50              500                  0.9  dynamic                 1.1\n"
     ]
    },
    {
     "name": "stderr",
     "output_type": "stream",
     "text": [
      " Simulating... : 100%|██████████| 4999/4999 [00:05<00:00, 903.58it/s] \n"
     ]
    }
   ],
   "source": [
    "run_optimizer(\n",
    "    checkpoint=1,\n",
    "    counter=8001,\n",
    "    start=1,\n",
    "    end=5000,\n",
    "    tickers=['EUR_USD'],\n",
    "    frequency=['M5'],\n",
    "    init_bal=[1000],\n",
    "    init_trade_size=[1000],\n",
    "    grid_pips=[10],\n",
    "    sl_grid_count=[50],\n",
    "    stop_loss=['margin_grid_count'],\n",
    "    margin_sl_percent=[0.90],\n",
    "    sizing=['dynamic'],\n",
    "    cash_out_factor=[1.1],\n",
    "    INPUTS_FILE='inputs.8a.csv'\n",
    ")"
   ]
  },
  {
   "cell_type": "code",
   "execution_count": 3,
   "metadata": {},
   "outputs": [],
   "source": [
    "# run_optimizer(\n",
    "#     checkpoint=1,\n",
    "#     counter=8001,\n",
    "#     start=None,\n",
    "#     end=None,\n",
    "#     tickers=['EUR_USD'],\n",
    "#     frequency=['M5'],\n",
    "#     init_bal=[1000],\n",
    "#     init_trade_size=[1000],\n",
    "#     grid_pips=[10, 20, 30, 40, 50, 60, 100],\n",
    "#     sl_grid_count=[5, 10, 15, 20, 30, 50, 100],\n",
    "#     stop_loss=['margin_grid_count'],\n",
    "#     margin_sl_percent=[0.90, 0.80, 0.70],\n",
    "#     sizing=['dynamic', 'static'],\n",
    "#     cash_out_factor=[1.1, 1.25, 1.5, 1.75],\n",
    "#     INPUTS_FILE='inputs.8.csv'\n",
    "# )"
   ]
  },
  {
   "cell_type": "code",
   "execution_count": 106,
   "metadata": {},
   "outputs": [],
   "source": [
    "MC_PERCENT = 0.50\n",
    "margin_rate = 0.03333333333333\n",
    "def calc_trade_size(i: int, \n",
    "               init_bal: float, \n",
    "               init_trade_size: int, \n",
    "               net_bal: float, \n",
    "               margin_used: float, \n",
    "               sizing: str, \n",
    "               sl_pip_position: float, \n",
    "               tp_pips: int):\n",
    "    sizing_ratio = init_trade_size / init_bal\n",
    "    if i == 0:\n",
    "        trade_size = init_trade_size\n",
    "    else:\n",
    "        calc_trade_size = int(net_bal * sizing_ratio) if sizing == 'dynamic' else init_trade_size\n",
    "        sl_cover_trade_size = sl_pip_position / tp_pips / 2\n",
    "        required_trade_size = max(calc_trade_size, sl_cover_trade_size)\n",
    "        allowed_trade_size = max(0, (net_bal / MC_PERCENT- margin_used) / (2 * margin_rate))\n",
    "        trade_size = round(min(required_trade_size, allowed_trade_size), 2)\n",
    "        print('calc_trade_size', calc_trade_size)\n",
    "        print('sl_cover_trade_size', sl_cover_trade_size)\n",
    "        print('required_trade_size', required_trade_size)\n",
    "        print('allowed_trade_size', allowed_trade_size)\n",
    "        print('trade_size', trade_size)\n",
    "    return trade_size"
   ]
  },
  {
   "cell_type": "code",
   "execution_count": 117,
   "metadata": {},
   "outputs": [],
   "source": [
    "margin_rate = 0.03333333333333\n",
    "def calc_trade_size(i: int, \n",
    "               init_bal: float, \n",
    "               init_trade_size: int, \n",
    "               net_bal: float, \n",
    "               margin_used: float, \n",
    "               sizing: str, \n",
    "               sl_pip_position: float, \n",
    "               tp_pips: int,\n",
    "               uncovered_pip_position: int,\n",
    "               margin_sl_percent: float):\n",
    "    sizing_ratio = init_trade_size / init_bal\n",
    "    if i == 0:\n",
    "        trade_size = init_trade_size\n",
    "    else:\n",
    "        calc_trade_size = int(net_bal * sizing_ratio) if sizing == 'dynamic' else init_trade_size\n",
    "        if uncovered_pip_position > 0:\n",
    "            sl_cover_trade_size = uncovered_pip_position / tp_pips / 2\n",
    "            required_trade_size = max(calc_trade_size, sl_cover_trade_size)\n",
    "            allowed_trade_size = max(0, (net_bal / margin_sl_percent - margin_used) / (2 * margin_rate))\n",
    "            trade_size = int(min(required_trade_size, allowed_trade_size))\n",
    "        else:\n",
    "            trade_size = calc_trade_size\n",
    "        print('calc_trade_size', calc_trade_size)\n",
    "        print('sl_cover_trade_size', sl_cover_trade_size)\n",
    "        print('required_trade_size', required_trade_size)\n",
    "        print('allowed_trade_size', allowed_trade_size)\n",
    "        print('trade_size', trade_size)\n",
    "    return trade_size"
   ]
  },
  {
   "cell_type": "code",
   "execution_count": 119,
   "metadata": {},
   "outputs": [
    {
     "name": "stdout",
     "output_type": "stream",
     "text": [
      "calc_trade_size 106\n",
      "sl_cover_trade_size 29202.97333333333\n",
      "required_trade_size 29202.97333333333\n",
      "allowed_trade_size 19463.062500001943\n",
      "trade_size 19463\n"
     ]
    }
   ],
   "source": [
    "i=1\n",
    "init_bal=1000\n",
    "init_trade_size=100\n",
    "net_bal=1063.15\n",
    "margin_used=31.4\n",
    "sizing='dynamic'\n",
    "tp_pips=30\n",
    "grids=10\n",
    "prev_trade_size=3000\n",
    "sl_pip_position=tp_pips*grids*prev_trade_size\n",
    "uncovered_pip_position=1752178.4\n",
    "margin_sl_percent=0.8\n",
    "trade_size = calc_trade_size(i=1,\n",
    "                            init_bal=init_bal, \n",
    "                            init_trade_size=init_trade_size, \n",
    "                            net_bal=net_bal, \n",
    "                            margin_used=margin_used, \n",
    "                            sizing=sizing, \n",
    "                            sl_pip_position=sl_pip_position, \n",
    "                            tp_pips=tp_pips,\n",
    "                            uncovered_pip_position=uncovered_pip_position,\n",
    "                            margin_sl_percent=margin_sl_percent)"
   ]
  },
  {
   "cell_type": "code",
   "execution_count": 108,
   "metadata": {},
   "outputs": [
    {
     "data": {
      "text/plain": [
       "False"
      ]
     },
     "execution_count": 108,
     "metadata": {},
     "output_type": "execute_result"
    }
   ],
   "source": [
    "req_margin = round((trade_size + 0) * margin_rate * 2, 2)\n",
    "net_bal >= (req_margin + margin_used) * MC_PERCENT"
   ]
  },
  {
   "cell_type": "code",
   "execution_count": 109,
   "metadata": {},
   "outputs": [
    {
     "data": {
      "text/plain": [
       "False"
      ]
     },
     "execution_count": 109,
     "metadata": {},
     "output_type": "execute_result"
    }
   ],
   "source": [
    "req_margin = round((trade_size + 1) * margin_rate * 2, 2)\n",
    "net_bal >= (req_margin + margin_used) * MC_PERCENT"
   ]
  },
  {
   "cell_type": "code",
   "execution_count": null,
   "metadata": {},
   "outputs": [],
   "source": [
    "print(True)    "
   ]
  }
 ],
 "metadata": {
  "kernelspec": {
   "display_name": "trade",
   "language": "python",
   "name": "python3"
  },
  "language_info": {
   "codemirror_mode": {
    "name": "ipython",
    "version": 3
   },
   "file_extension": ".py",
   "mimetype": "text/x-python",
   "name": "python",
   "nbconvert_exporter": "python",
   "pygments_lexer": "ipython3",
   "version": "3.10.13"
  }
 },
 "nbformat": 4,
 "nbformat_minor": 2
}
