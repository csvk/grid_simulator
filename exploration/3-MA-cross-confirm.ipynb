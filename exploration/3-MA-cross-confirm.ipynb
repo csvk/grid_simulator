{
 "cells": [
  {
   "cell_type": "code",
   "execution_count": 1,
   "metadata": {},
   "outputs": [],
   "source": [
    "from pykalman import KalmanFilter\n",
    "from talib import SMA, EMA\n",
    "import pandas as pd\n",
    "import numpy as np\n",
    "import datetime as dt\n",
    "from tqdm import tqdm\n",
    "import plotly.graph_objects as go\n",
    "from plotting import CandlePlot\n",
    "import pyarrow as pa\n",
    "import pyarrow.parquet as pq\n",
    "pd.set_option(\"display.max_columns\", None)"
   ]
  },
  {
   "cell_type": "code",
   "execution_count": 2,
   "metadata": {},
   "outputs": [],
   "source": [
    "class Data:\n",
    "    \n",
    "    def __init__(self, source):\n",
    "        assert type(source) == str or type(source) == pd.DataFrame, 'Invalid source'\n",
    "        if type(source) == str:\n",
    "            self.df = {\n",
    "                'raw': pd.read_pickle(source)\n",
    "            }\n",
    "        elif type(source) == pd.DataFrame:\n",
    "            self.df = {\n",
    "                'raw': source.copy()\n",
    "            }            \n",
    "\n",
    "        if 'time' in self.df['raw'].columns:\n",
    "            self.df['raw']['time'] = [ x.replace(tzinfo=None) for x in self.df['raw']['time']]\n",
    "        self.datalen = self.df['raw'].shape[0]\n",
    "\n",
    "    def __repr__(self) -> str:\n",
    "        repr = str()\n",
    "        for name, df in self.df.items():\n",
    "            repr = repr + name + ':\\n' + str(pd.concat([df.head(2), df.tail(1)])) + '\\n'\n",
    "        return repr\n",
    "\n",
    "    def prep_data(self, name: str, rows: int, direction: int, source: str='raw', cols: list=None):\n",
    "        '''Create new dataframe with specified list of columns and number of rows as preparation for fast data creation\n",
    "        direction: 1 if data should be selected from top and -1 if from bottom\n",
    "        '''\n",
    "        assert (direction != 1 or direction != -1), 'direction must be 1 (top) or -1 (bottom)'\n",
    "        \n",
    "        if cols == None:\n",
    "            cols = self.df[source].columns\n",
    "        if direction == 1:\n",
    "            self.df[name] = self.df[source][cols].iloc[:rows].copy()\n",
    "        else:\n",
    "            self.df[name] = self.df[source][cols].iloc[-rows:].copy()\n",
    "        self.df[name].reset_index(drop=True, inplace=True)\n",
    "\n",
    "    def add_columns(self, name: str, cols: list):\n",
    "        '''Add new columns to component dataframes\n",
    "        '''        \n",
    "        exist_cols = list(self.df[name].columns)\n",
    "        cols = exist_cols + cols\n",
    "        self.df[name] = self.df[name].reindex(columns = cols) \n",
    "\n",
    "    def prepare_fast_data(self, name: str, rows: int, direction: int, source: str='raw', cols: list=None, add_cols: list=None):\n",
    "        '''Prepare data as an array for fast processing\n",
    "        fcols = {col1: col1_index, col2: col2_index, .... }     \n",
    "        fastdf = [array[col1], array[col2], array[col3], .... ]\n",
    "        Accessed by: self.fdata()\n",
    "        '''\n",
    "        \n",
    "        self.prep_data(name=name, rows=rows, direction=direction, source=source, cols=cols)\n",
    "        self.add_columns(name=name, cols=add_cols)\n",
    "\n",
    "        self.fcols = dict()\n",
    "        for i in range(len(self.df[name].columns)):\n",
    "            self.fcols[self.df[name].columns[i]] = i\n",
    "        self.fastdf = [self.df[name][col].array for col in self.df[name].columns]\n",
    "        self.fdatalen = len(self.fastdf[0])\n",
    "\n",
    "    def fdata(self, column: str=None, index: int=None, rows: int=None):\n",
    "        if column is None:\n",
    "            return self.fastdf\n",
    "        if index is None:\n",
    "            return self.fastdf[self.fcols[column]]\n",
    "        else:\n",
    "            if rows:\n",
    "                try:\n",
    "                    return self.fastdf[self.fcols[column]][index:index+rows]\n",
    "                except:\n",
    "                    return self.fastdf[self.fcols[column]][index:]\n",
    "            else:\n",
    "                return self.fastdf[self.fcols[column]][index]\n",
    "        \n",
    "    def update_fdata(self, column: str, index: int=None, value: float=None):\n",
    "        assert value is not None, 'Value cannot be null'\n",
    "        if index is None:\n",
    "            assert len(value) == self.fdatalen\n",
    "            for i in range(self.fdatalen):\n",
    "                self.fastdf[self.fcols[column]][i] = value[i]\n",
    "                print(i, )\n",
    "        else:\n",
    "            self.fastdf[self.fcols[column]][index] = value\n"
   ]
  },
  {
   "cell_type": "code",
   "execution_count": 3,
   "metadata": {},
   "outputs": [],
   "source": [
    "df = pd.read_pickle(\"../data/EUR_USD_M5.pkl\")"
   ]
  },
  {
   "cell_type": "code",
   "execution_count": 6,
   "metadata": {},
   "outputs": [],
   "source": [
    "our_cols = ['time', 'bid_o', 'ask_o', 'mid_c']\n",
    "df2 = df[our_cols]"
   ]
  },
  {
   "cell_type": "code",
   "execution_count": 4,
   "metadata": {},
   "outputs": [],
   "source": [
    "d = Data(df)"
   ]
  },
  {
   "cell_type": "code",
   "execution_count": 5,
   "metadata": {},
   "outputs": [
    {
     "data": {
      "text/plain": [
       "raw:\n",
       "                      time  volume    mid_o    mid_h    mid_l    mid_c  \\\n",
       "0      2016-01-07 00:00:00      74  1.07764  1.07811  1.07759  1.07786   \n",
       "1      2016-01-07 00:05:00      98  1.07788  1.07818  1.07764  1.07810   \n",
       "594302 2023-12-29 21:55:00     104  1.10392  1.10397  1.10366  1.10374   \n",
       "\n",
       "          bid_o    bid_h    bid_l    bid_c    ask_o    ask_h    ask_l    ask_c  \n",
       "0       1.07757  1.07802  1.07750  1.07777  1.07772  1.07820  1.07768  1.07795  \n",
       "1       1.07779  1.07811  1.07755  1.07802  1.07798  1.07827  1.07772  1.07819  \n",
       "594302  1.10382  1.10388  1.10346  1.10363  1.10401  1.10406  1.10381  1.10386  "
      ]
     },
     "execution_count": 5,
     "metadata": {},
     "output_type": "execute_result"
    }
   ],
   "source": [
    "d"
   ]
  }
 ],
 "metadata": {
  "kernelspec": {
   "display_name": "Python 3",
   "language": "python",
   "name": "python3"
  },
  "language_info": {
   "codemirror_mode": {
    "name": "ipython",
    "version": 3
   },
   "file_extension": ".py",
   "mimetype": "text/x-python",
   "name": "python",
   "nbconvert_exporter": "python",
   "pygments_lexer": "ipython3",
   "version": "3.10.13"
  }
 },
 "nbformat": 4,
 "nbformat_minor": 2
}
