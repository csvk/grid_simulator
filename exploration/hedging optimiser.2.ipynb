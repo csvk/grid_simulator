{
 "cells": [
  {
   "cell_type": "code",
   "execution_count": 1,
   "metadata": {},
   "outputs": [],
   "source": [
    "import sys\n",
    "sys.path.append(\"../\")"
   ]
  },
  {
   "cell_type": "code",
   "execution_count": 2,
   "metadata": {},
   "outputs": [],
   "source": [
    "import pandas as pd\n",
    "import datetime as dt\n",
    "import math\n",
    "import plotly.graph_objects as go\n",
    "from plotting import CandlePlot\n",
    "from tqdm import tqdm\n",
    "from tabulate import tabulate\n",
    "import pickle as pkl\n",
    "import random\n",
    "pd.set_option(\"display.max_columns\", None)"
   ]
  },
  {
   "cell_type": "code",
   "execution_count": 3,
   "metadata": {},
   "outputs": [],
   "source": [
    "class Data:\n",
    "    \n",
    "    def __init__(self, path):\n",
    "        self.df = {\n",
    "            'raw': pd.read_pickle(path)\n",
    "        }\n",
    "        if 'time' in self.df['raw'].columns:\n",
    "            self.df['raw']['time'] = [ x.replace(tzinfo=None) for x in self.df['raw']['time']]\n",
    "\n",
    "    def __repr__(self) -> str:\n",
    "        repr = str()\n",
    "        for name, df in self.df.items():\n",
    "            repr = repr + name + ':\\n' + str(df.head(3)) + '\\n'\n",
    "        return repr\n",
    "\n",
    "    def shorten(self, name: str, rows: int, direction: int, source: str='raw', cols: list=None):\n",
    "        '''Create new dataframe with specified list of columns and number of rows\n",
    "        direction: 1 if data should be selected from top and -1 if from bottom\n",
    "        '''\n",
    "        assert (direction != 1 or direction != -1), 'direction must be 1 (top) or -1 (bottom)'\n",
    "        \n",
    "        if cols == None:\n",
    "            cols = self.df[source].columns\n",
    "        if direction == 1:\n",
    "            self.df[name] = self.df[source][cols].iloc[:rows].copy()\n",
    "        else:\n",
    "            self.df[name] = self.df[source][cols].iloc[-rows:].copy()\n",
    "        self.df[name].reset_index(drop=True, inplace=True)\n",
    "\n",
    "    def add_columns(self, name: str, cols: list):\n",
    "        '''Add new columns to component dataframes\n",
    "        '''        \n",
    "        exist_cols = list(self.df[name].columns)\n",
    "        cols = exist_cols + cols\n",
    "        self.df[name] = self.df[name].reindex(columns = cols) \n",
    "\n",
    "    def prepare_fast_data(self, name: str):\n",
    "        '''Prepare data as an array for fast processing\n",
    "        fcols = {col1: col1_index, col2: col2_index, .... }     \n",
    "        fdata = [array[col1], array[col2], array[col3], .... ]\n",
    "        Accessed by: self.fdata[fcols[column_name]] for whole column or\n",
    "                     self.fdata[fcols[column_name]][row_index] for a specific row item\n",
    "        '''\n",
    "        self.fcols = dict()\n",
    "        for i in range(len(self.df[name].columns)):\n",
    "            self.fcols[self.df[name].columns[i]] = i\n",
    "        self.fdata = [self.df[name][col].array for col in self.df[name].columns]"
   ]
  },
  {
   "cell_type": "code",
   "execution_count": 4,
   "metadata": {},
   "outputs": [],
   "source": [
    "d = Data(\"../data/EUR_USD_M5.pkl\")"
   ]
  },
  {
   "cell_type": "code",
   "execution_count": 5,
   "metadata": {},
   "outputs": [],
   "source": [
    "our_cols = ['time', 'bid_o', 'bid_h', 'bid_l', 'bid_c', 'ask_o', 'ask_h', 'ask_l', 'ask_c', 'mid_c']\n",
    "max = d.df['raw'].shape[0]\n"
   ]
  },
  {
   "cell_type": "code",
   "execution_count": 6,
   "metadata": {},
   "outputs": [],
   "source": [
    "BUY = 1\n",
    "SELL = -1\n",
    "CLOSE = 2\n",
    "NONE = 0\n",
    "MARGIN_RATE = 0.03333333333333\n",
    "INIT_BAL = 1000"
   ]
  },
  {
   "cell_type": "code",
   "execution_count": 7,
   "metadata": {},
   "outputs": [],
   "source": [
    "def set_price(i: int, buy_price: float, sell_price: float, reward: float):\n",
    "    d.fdata[d.fcols['buy_price']][i] = buy_price\n",
    "    d.fdata[d.fcols['buy_tp_price']][i] = buy_price + reward\n",
    "    d.fdata[d.fcols['sell_price']][i] = sell_price\n",
    "    d.fdata[d.fcols['sell_tp_price']][i] = sell_price - reward\n",
    "\n",
    "def set_position_size(i: int, base_trade_size: int, rr: float, cushion: float, new_streak: bool=False):\n",
    "    if new_streak == True:\n",
    "        # print('i', i, 'rr', rr, 'cus', cushion, 'new_streak', new_streak)\n",
    "        d.fdata[d.fcols['position_size']][i] = base_trade_size\n",
    "        d.fdata[d.fcols['cum_position_size']][i] = base_trade_size\n",
    "    else:\n",
    "        prev_size = d.fdata[d.fcols['cum_position_size']][i-1]\n",
    "        # print('i', i, 'prev_size', prev_size, 'rr', rr, 'cus', cushion,'new_streak', new_streak)\n",
    "        d.fdata[d.fcols['position_size']][i] = math.ceil(prev_size / rr * cushion)\n",
    "        d.fdata[d.fcols['cum_position_size']][i] = prev_size + d.fdata[d.fcols['position_size']][i]\n",
    "\n",
    "def set_ac_bal(i: int, prev_signal: int, reverse: bool):\n",
    "    if reverse == True: # Stop loss\n",
    "        sell_at = 'ask_l'\n",
    "        buy_at = 'bid_h'\n",
    "    else: # Take profit\n",
    "        sell_at = 'ask_h'\n",
    "        buy_at = 'bid_l'\n",
    "\n",
    "    if prev_signal == BUY:\n",
    "        d.fdata[d.fcols['realised_pl']][i] = (d.fdata[d.fcols[sell_at]][i] - d.fdata[d.fcols['buy_price']][i-1]) * \\\n",
    "            d.fdata[d.fcols['position_size']][i-1]\n",
    "    elif prev_signal == SELL:\n",
    "        d.fdata[d.fcols['realised_pl']][i] = (d.fdata[d.fcols['sell_price']][i-1] - d.fdata[d.fcols[buy_at]][i]) * \\\n",
    "            d.fdata[d.fcols['position_size']][i-1]\n",
    "    d.fdata[d.fcols['ac_bal']][i] = d.fdata[d.fcols['ac_bal']][i-1] + d.fdata[d.fcols['realised_pl']][i]\n",
    "               \n",
    "\n",
    "def make_trade(i: int, signal: int, base_trade_size: int, risk: float, rr: float, cushion: float, new_streak=False, reverse=True) -> int:\n",
    "    # print(i, 'open_position')\n",
    "    if reverse:\n",
    "        prev_signal = BUY if signal == SELL else SELL\n",
    "    else:\n",
    "        prev_signal = BUY if signal == BUY else SELL\n",
    "    d.fdata[d.fcols['signal']][i] = signal\n",
    "    set_position_size(i=i, base_trade_size=base_trade_size, rr=rr, cushion=cushion, new_streak=new_streak)\n",
    "\n",
    "    if new_streak == True:\n",
    "        d.fdata[d.fcols['trade_no']][i] = 1\n",
    "        if i == 0:\n",
    "            d.fdata[d.fcols['streak_no']][i] = 1\n",
    "            d.fdata[d.fcols['ac_bal']][i] = INIT_BAL\n",
    "        else:\n",
    "            d.fdata[d.fcols['streak_no']][i] = d.fdata[d.fcols['streak_no']][i-1] + 1\n",
    "            set_ac_bal(i, prev_signal, reverse)\n",
    "        d.fdata[d.fcols['realised_pl']][i] = 0 # Overwrite value for new streak\n",
    "\n",
    "    else:\n",
    "        d.fdata[d.fcols['trade_no']][i] = d.fdata[d.fcols['trade_no']][i-1] + 1\n",
    "        d.fdata[d.fcols['streak_no']][i] = d.fdata[d.fcols['streak_no']][i-1]\n",
    "        set_ac_bal(i, prev_signal, reverse)\n",
    "\n",
    "    if signal == BUY:\n",
    "        buy_price = d.fdata[d.fcols['bid_h']][i]\n",
    "        sell_price = buy_price - risk\n",
    "        set_price(i, buy_price, sell_price, risk * rr)\n",
    "        d.fdata[d.fcols['unrealised_pl']][i] = \\\n",
    "            (d.fdata[d.fcols['mid_c']][i] - d.fdata[d.fcols['buy_price']][i]) * d.fdata[d.fcols['position_size']][i]\n",
    "    elif signal == SELL:\n",
    "        sell_price = d.fdata[d.fcols['ask_l']][i]\n",
    "        buy_price = sell_price + risk\n",
    "        set_price(i, buy_price, sell_price, risk * rr)\n",
    "        d.fdata[d.fcols['unrealised_pl']][i] = \\\n",
    "            (d.fdata[d.fcols['sell_price']][i] - d.fdata[d.fcols['mid_c']][i]) * d.fdata[d.fcols['position_size']][i]\n",
    "\n",
    "    d.fdata[d.fcols['margin_used']][i] = d.fdata[d.fcols['position_size']][i] * MARGIN_RATE\n",
    "    d.fdata[d.fcols['margin_closeout']][i] = d.fdata[d.fcols['ac_bal']][i] + d.fdata[d.fcols['unrealised_pl']][i]\n",
    "\n",
    "    # print(i, d.df['analysis'].iloc[i])\n",
    "    # print(d.fdata[d.fcols['realised_pl']][i])\n",
    "    return signal\n",
    "\n",
    "def open_new_streak(i: int, signal: int, base_trade_size: int, risk: float, rr: float, cushion: float, reverse: bool=False) -> int:\n",
    "    return make_trade(i=i, signal=signal, base_trade_size=base_trade_size, risk=risk, rr=rr, cushion=cushion, new_streak=True, reverse=reverse)\n",
    "\n",
    "def reverse_position(i: int, position: int, base_trade_size: int, risk: float, rr: float, cushion: float) -> int:\n",
    "    signal = BUY if position == SELL else SELL\n",
    "    return make_trade(i=i, signal=signal, base_trade_size=base_trade_size, risk=risk, rr=rr, cushion=cushion, new_streak=False)\n",
    "    \n"
   ]
  },
  {
   "cell_type": "code",
   "execution_count": 8,
   "metadata": {},
   "outputs": [],
   "source": [
    "def no_signal_update_values(i: int, position: int):\n",
    "    # print(i, 'no_signal_update_values')\n",
    "    d.fdata[d.fcols['signal']][i] = NONE\n",
    "    d.fdata[d.fcols['trade_no']][i] = d.fdata[d.fcols['trade_no']][i-1]\n",
    "    d.fdata[d.fcols['streak_no']][i] = d.fdata[d.fcols['streak_no']][i-1]\n",
    "    d.fdata[d.fcols['position_size']][i] = d.fdata[d.fcols['position_size']][i-1]\n",
    "    d.fdata[d.fcols['cum_position_size']][i] = d.fdata[d.fcols['cum_position_size']][i-1]\n",
    "    d.fdata[d.fcols['buy_price']][i] = d.fdata[d.fcols['buy_price']][i-1]\n",
    "    d.fdata[d.fcols['buy_tp_price']][i] = d.fdata[d.fcols['buy_tp_price']][i-1]\n",
    "    d.fdata[d.fcols['sell_price']][i] = d.fdata[d.fcols['sell_price']][i-1]\n",
    "    d.fdata[d.fcols['sell_tp_price']][i] = d.fdata[d.fcols['sell_tp_price']][i-1]\n",
    "    d.fdata[d.fcols['realised_pl']][i] = d.fdata[d.fcols['realised_pl']][i-1]\n",
    "    d.fdata[d.fcols['ac_bal']][i] = d.fdata[d.fcols['ac_bal']][i-1]\n",
    "    d.fdata[d.fcols['margin_used']][i] = d.fdata[d.fcols['margin_used']][i-1]\n",
    "\n",
    "    if position == BUY:\n",
    "        d.fdata[d.fcols['unrealised_pl']][i] = \\\n",
    "            (d.fdata[d.fcols['mid_c']][i] - d.fdata[d.fcols['buy_price']][i]) * d.fdata[d.fcols['position_size']][i]\n",
    "    elif position == SELL:\n",
    "        d.fdata[d.fcols['unrealised_pl']][i] = \\\n",
    "            (d.fdata[d.fcols['sell_price']][i] - d.fdata[d.fcols['mid_c']][i]) * d.fdata[d.fcols['position_size']][i]\n",
    "    \n",
    "    d.fdata[d.fcols['margin_closeout']][i] = d.fdata[d.fcols['ac_bal']][i] + d.fdata[d.fcols['unrealised_pl']][i]    \n",
    "    # print(i, d.df['analysis'].iloc[i])"
   ]
  },
  {
   "cell_type": "code",
   "execution_count": 9,
   "metadata": {},
   "outputs": [],
   "source": [
    "# INIT_SIGNAL = SELL\n",
    "# CUSHION = 2\n",
    "# RR = 1.5\n",
    "# RISK = 0.0040\n",
    "# MARGIN_CLOSEOUT = False\n",
    "# STREAK_TRADE_LIMIT = 10"
   ]
  },
  {
   "cell_type": "code",
   "execution_count": 10,
   "metadata": {},
   "outputs": [],
   "source": [
    "def run_sim(sim_name: str, init_signal: int, base_trade_size: int, cushion: float, rr: float, risk: float, margin_closeout: bool, streak_trade_limit: int ) -> pd.DataFrame:\n",
    "    INIT_SIGNAL = init_signal\n",
    "    BASE_TRADE_SIZE = base_trade_size\n",
    "    CUSHION = cushion\n",
    "    RR = rr\n",
    "    RISK = risk\n",
    "    MARGIN_CLOSEOUT = margin_closeout\n",
    "    STREAK_TRADE_LIMIT = streak_trade_limit\n",
    "\n",
    "    d.shorten(name=sim_name, rows=max, direction=1, cols=our_cols)\n",
    "    d.add_columns(name=sim_name, cols=['signal', 'streak_no', 'trade_no', 'position_size', 'cum_position_size', 'buy_price', 'sell_price', 'buy_tp_price', 'sell_tp_price', 'unrealised_pl', 'realised_pl', 'ac_bal', 'margin_used', 'margin_closeout', ])\n",
    "    d.prepare_fast_data(sim_name)\n",
    "\n",
    "    candles = d.fdata[0].shape[0]\n",
    "    position = NONE\n",
    "    for i in tqdm(range(candles), desc=\" Simulating... \"):       \n",
    "        # First candle\n",
    "        if i == 0:\n",
    "            # print(i, position, 'before call')\n",
    "            # print(i, '#### First candle')\n",
    "            position = open_new_streak(i=i, signal=INIT_SIGNAL,  base_trade_size=base_trade_size, risk=RISK, rr=RR, cushion=CUSHION)\n",
    "        \n",
    "        # Subsequent candles\n",
    "        else:\n",
    "            # Reduce trade size to avoid large loss or Margin closeout\n",
    "            # if d.fdata[d.fcols['margin_closeout']][i-1] < d.fdata[d.fcols['margin_used']][i-1]: \n",
    "            if ((position == BUY and d.fdata[d.fcols['ask_l']][i] <= d.fdata[d.fcols['sell_price']][i-1]) or \\\n",
    "                (position == SELL and d.fdata[d.fcols['bid_h']][i] >= d.fdata[d.fcols['buy_price']][i-1])) and \\\n",
    "                d.fdata[d.fcols['trade_no']][i-1] == STREAK_TRADE_LIMIT and MARGIN_CLOSEOUT == True:\n",
    "                # print(i, '#### Margin closeout')\n",
    "                signal = SELL if position == BUY  else BUY\n",
    "                position = open_new_streak(i=i, signal=signal, base_trade_size=base_trade_size, risk=RISK, rr=RR, cushion=CUSHION, reverse=True)\n",
    "            \n",
    "            # Reverse trade on hitting Stop Loss\n",
    "            ## From Buy to Sell  \n",
    "            elif position == BUY and d.fdata[d.fcols['ask_l']][i] <= d.fdata[d.fcols['sell_price']][i-1]:\n",
    "                # position = SELL\n",
    "                # print(i, position, 'before call')\n",
    "                # print(i, '#### Reverse Buy to Sell')\n",
    "                position = reverse_position(i=i, position=position, base_trade_size=base_trade_size, risk=RISK, rr=RR, cushion=CUSHION)\n",
    "\n",
    "            ## From Sell to Buy \n",
    "            elif position == SELL and d.fdata[d.fcols['bid_h']][i] >= d.fdata[d.fcols['buy_price']][i-1]:\n",
    "                # position = BUY\n",
    "                # print(i, position, 'before call')\n",
    "                # print(i, '#### Reverse Sell to Buy')\n",
    "                position = reverse_position(i=i, position=position, base_trade_size=base_trade_size, risk=RISK, rr=RR, cushion=CUSHION)\n",
    "\n",
    "            # Take profit and initiate new trade in same direction on hitting Take Profit\n",
    "            ## Take Profit on long position\n",
    "            elif position == BUY and d.fdata[d.fcols['ask_h']][i] >= d.fdata[d.fcols['buy_tp_price']][i-1]:\n",
    "                # print(i, '#### TP Long')\n",
    "                position = open_new_streak(i=i, signal=position, base_trade_size=base_trade_size, risk=RISK, rr=RR, cushion=CUSHION)\n",
    "                \n",
    "            ## Take Profit on short position\n",
    "            elif position == SELL and d.fdata[d.fcols['bid_l']][i] <= d.fdata[d.fcols['sell_tp_price']][i-1]:\n",
    "                # print(i, '#### TP Short')\n",
    "                position = open_new_streak(i=i, signal=position, base_trade_size=base_trade_size, risk=RISK, rr=RR, cushion=CUSHION)     \n",
    "                    \n",
    "            # New trade\n",
    "            \n",
    "            # Update values when there is no signal\n",
    "            else:\n",
    "                # print(i, 'None', 'before call')\n",
    "                # print(i, '#### No signal')\n",
    "                no_signal_update_values(i=i, position=position)   \n",
    "\n",
    "    return dict(\n",
    "        sim_name = sim_name,\n",
    "        init_signal = INIT_SIGNAL,\n",
    "        base_trade_size=base_trade_size,\n",
    "        cushion = CUSHION,\n",
    "        risk = RISK,\n",
    "        rr = RR,\n",
    "        margin_closeout = MARGIN_CLOSEOUT,\n",
    "        streak_limit = STREAK_TRADE_LIMIT,\n",
    "        results = d.df[sim_name]\n",
    "    )"
   ]
  },
  {
   "cell_type": "code",
   "execution_count": 11,
   "metadata": {},
   "outputs": [],
   "source": [
    "def process_sim(counter: int, init_signal: int, base_trade_size: int, cushion: float, rr: float, risk: float, margin_closeout: bool, streak_trade_limit: int, inputs_list: list, inputs_file: str):\n",
    "    sim_name = f'sim_{counter}'\n",
    "    header = ['sim_name', 'init_signal', 'base_trade_size', 'cushion', 'risk', 'rr', 'margin_closeout', 'streak_limit']\n",
    "    inputs = [sim_name, init_signal, base_trade_size, cushion, risk, rr, margin_closeout, streak_trade_limit]\n",
    "    print(tabulate([inputs], header, tablefmt='plain'))\n",
    "    result= run_sim(\n",
    "        sim_name=sim_name,\n",
    "        init_signal=init_signal,\n",
    "        base_trade_size=base_trade_size,\n",
    "        cushion=cushion,\n",
    "        rr=rr,\n",
    "        risk=risk,\n",
    "        margin_closeout=margin_closeout,\n",
    "        streak_trade_limit=streak_trade_limit\n",
    "    )\n",
    "    # print('Saving files...')\n",
    "    with open(f'D:/Trading/forex_bot/outputs/{sim_name}.pkl', 'wb') as file:\n",
    "        pkl.dump(result, file)\n",
    "\n",
    "    inputs_list.append(inputs)\n",
    "    # header = ['sim_name', 'init_signal', 'base_trade_size','cushion', 'risk', 'rr', 'margin_closeout', 'streak_limit']\n",
    "    inputs_df = pd.DataFrame(inputs_list, columns=header)\n",
    "    inputs_df.to_pickle('D:/Trading/forex_bot/outputs/' + inputs_file)\n",
    "    \n",
    "    del d.df[sim_name]\n",
    "    counter =  counter + 1\n",
    "    return inputs"
   ]
  },
  {
   "cell_type": "code",
   "execution_count": 12,
   "metadata": {},
   "outputs": [],
   "source": [
    "# init_signal = [BUY, SELL]\n",
    "# cushion = [1.2, 1.5, 2.0]\n",
    "# rr = [1.5, 2, 3]\n",
    "# risk = [0.0010, 0.0020, 0.0030, 0.0040]\n",
    "# margin_closeout = [True, False]\n",
    "# streak_trade_limit = [2, 3, 4] # , 5, 6, 7, 8, 9, 10]"
   ]
  },
  {
   "cell_type": "code",
   "execution_count": 13,
   "metadata": {},
   "outputs": [],
   "source": [
    "# init_signal = [BUY, SELL]\n",
    "base_trade_size = [10, 50, 100]\n",
    "cushion = [2.0, 2.5, 3.0, 4.0]\n",
    "rr = [1.5, 2, 3]\n",
    "risk = [0.0020, 0.0030, 0.0040]\n",
    "margin_closeout = [False]\n",
    "streak_trade_limit = [10, 11, 12, 13]\n",
    "INPUTS_FILE = 'inputs4.pkl'"
   ]
  },
  {
   "cell_type": "code",
   "execution_count": 14,
   "metadata": {},
   "outputs": [],
   "source": [
    "# init_signal = [BUY, SELL]\n",
    "base_trade_size = [10, 50, 100]\n",
    "cushion = [2.0]\n",
    "rr = [3]\n",
    "risk = [0.0020, 0.0030, 0.0040]\n",
    "margin_closeout = [True]\n",
    "streak_trade_limit = [12]\n",
    "INPUTS_FILE = 'inputs5.pkl'"
   ]
  },
  {
   "cell_type": "code",
   "execution_count": 15,
   "metadata": {},
   "outputs": [
    {
     "name": "stdout",
     "output_type": "stream",
     "text": [
      "sim_name      init_signal    base_trade_size    cushion    risk    rr  margin_closeout      streak_limit\n",
      "sim_4001                1                 10          2   0.002     3  True                           12\n"
     ]
    },
    {
     "name": "stderr",
     "output_type": "stream",
     "text": [
      " Simulating... : 100%|██████████| 594303/594303 [00:50<00:00, 11721.62it/s]\n"
     ]
    },
    {
     "name": "stdout",
     "output_type": "stream",
     "text": [
      "sim_name      init_signal    base_trade_size    cushion    risk    rr  margin_closeout      streak_limit\n",
      "sim_4002                1                 10          2   0.003     3  True                           12\n"
     ]
    },
    {
     "name": "stderr",
     "output_type": "stream",
     "text": [
      " Simulating... : 100%|██████████| 594303/594303 [00:52<00:00, 11342.61it/s]\n"
     ]
    },
    {
     "name": "stdout",
     "output_type": "stream",
     "text": [
      "sim_name      init_signal    base_trade_size    cushion    risk    rr  margin_closeout      streak_limit\n",
      "sim_4003                1                 10          2   0.004     3  True                           12\n"
     ]
    },
    {
     "name": "stderr",
     "output_type": "stream",
     "text": [
      " Simulating... : 100%|██████████| 594303/594303 [01:03<00:00, 9432.63it/s] \n"
     ]
    },
    {
     "name": "stdout",
     "output_type": "stream",
     "text": [
      "sim_name      init_signal    base_trade_size    cushion    risk    rr  margin_closeout      streak_limit\n",
      "sim_4004                1                 50          2   0.002     3  True                           12\n"
     ]
    },
    {
     "name": "stderr",
     "output_type": "stream",
     "text": [
      " Simulating... : 100%|██████████| 594303/594303 [01:01<00:00, 9597.06it/s] \n"
     ]
    },
    {
     "name": "stdout",
     "output_type": "stream",
     "text": [
      "sim_name      init_signal    base_trade_size    cushion    risk    rr  margin_closeout      streak_limit\n",
      "sim_4005               -1                 50          2   0.003     3  True                           12\n"
     ]
    },
    {
     "name": "stderr",
     "output_type": "stream",
     "text": [
      " Simulating... : 100%|██████████| 594303/594303 [00:42<00:00, 14109.65it/s]\n"
     ]
    },
    {
     "name": "stdout",
     "output_type": "stream",
     "text": [
      "sim_name      init_signal    base_trade_size    cushion    risk    rr  margin_closeout      streak_limit\n",
      "sim_4006                1                 50          2   0.004     3  True                           12\n"
     ]
    },
    {
     "name": "stderr",
     "output_type": "stream",
     "text": [
      " Simulating... : 100%|██████████| 594303/594303 [00:41<00:00, 14274.31it/s]\n"
     ]
    },
    {
     "name": "stdout",
     "output_type": "stream",
     "text": [
      "sim_name      init_signal    base_trade_size    cushion    risk    rr  margin_closeout      streak_limit\n",
      "sim_4007                1                100          2   0.002     3  True                           12\n"
     ]
    },
    {
     "name": "stderr",
     "output_type": "stream",
     "text": [
      " Simulating... : 100%|██████████| 594303/594303 [00:41<00:00, 14231.76it/s]\n"
     ]
    },
    {
     "name": "stdout",
     "output_type": "stream",
     "text": [
      "sim_name      init_signal    base_trade_size    cushion    risk    rr  margin_closeout      streak_limit\n",
      "sim_4008                1                100          2   0.003     3  True                           12\n"
     ]
    },
    {
     "name": "stderr",
     "output_type": "stream",
     "text": [
      " Simulating... : 100%|██████████| 594303/594303 [00:47<00:00, 12630.85it/s]\n"
     ]
    },
    {
     "name": "stdout",
     "output_type": "stream",
     "text": [
      "sim_name      init_signal    base_trade_size    cushion    risk    rr  margin_closeout      streak_limit\n",
      "sim_4009                1                100          2   0.004     3  True                           12\n"
     ]
    },
    {
     "name": "stderr",
     "output_type": "stream",
     "text": [
      " Simulating... : 100%|██████████| 594303/594303 [00:45<00:00, 13005.04it/s]\n"
     ]
    }
   ],
   "source": [
    "counter = 4001\n",
    "inputs_list = list()\n",
    "# for i_s in init_signal:\n",
    "for t in base_trade_size:\n",
    "    for c in cushion:\n",
    "        for r_r in rr:\n",
    "            for r in risk:\n",
    "                for m_c in margin_closeout:\n",
    "                    if m_c == True:\n",
    "                        for lim in streak_trade_limit:\n",
    "                            # if counter > 163:\n",
    "                            inputs = process_sim(\n",
    "                                counter=counter,\n",
    "                                init_signal=random.choice([BUY, SELL]),\n",
    "                                base_trade_size=t,\n",
    "                                cushion=c,\n",
    "                                rr=r_r,\n",
    "                                risk=r,\n",
    "                                margin_closeout=m_c,\n",
    "                                streak_trade_limit=lim,\n",
    "                                inputs_list=inputs_list,\n",
    "                                inputs_file=INPUTS_FILE\n",
    "                            )  \n",
    "                            counter =  counter + 1\n",
    "                    else:\n",
    "                        # if counter > 163:\n",
    "                        inputs = process_sim(\n",
    "                                counter=counter,\n",
    "                                init_signal=random.choice([BUY, SELL]),\n",
    "                                base_trade_size=t,\n",
    "                                cushion=c,\n",
    "                                rr=r_r,\n",
    "                                risk=r,\n",
    "                                margin_closeout=m_c,\n",
    "                                streak_trade_limit=0,\n",
    "                                inputs_list=inputs_list\n",
    "                            )\n",
    "                        counter =  counter + 1"
   ]
  },
  {
   "cell_type": "code",
   "execution_count": 16,
   "metadata": {},
   "outputs": [
    {
     "data": {
      "text/plain": [
       "raw:\n",
       "                 time  volume    mid_o    mid_h    mid_l    mid_c    bid_o  \\\n",
       "0 2016-01-07 00:00:00      74  1.07764  1.07811  1.07759  1.07786  1.07757   \n",
       "1 2016-01-07 00:05:00      98  1.07788  1.07818  1.07764  1.07810  1.07779   \n",
       "2 2016-01-07 00:10:00      28  1.07812  1.07832  1.07812  1.07828  1.07803   \n",
       "\n",
       "     bid_h    bid_l    bid_c    ask_o    ask_h    ask_l    ask_c  \n",
       "0  1.07802  1.07750  1.07777  1.07772  1.07820  1.07768  1.07795  \n",
       "1  1.07811  1.07755  1.07802  1.07798  1.07827  1.07772  1.07819  \n",
       "2  1.07823  1.07803  1.07819  1.07822  1.07840  1.07822  1.07837  "
      ]
     },
     "execution_count": 16,
     "metadata": {},
     "output_type": "execute_result"
    }
   ],
   "source": [
    "d"
   ]
  },
  {
   "cell_type": "code",
   "execution_count": null,
   "metadata": {},
   "outputs": [],
   "source": []
  },
  {
   "cell_type": "code",
   "execution_count": null,
   "metadata": {},
   "outputs": [],
   "source": []
  },
  {
   "cell_type": "code",
   "execution_count": null,
   "metadata": {},
   "outputs": [],
   "source": []
  },
  {
   "cell_type": "code",
   "execution_count": null,
   "metadata": {},
   "outputs": [],
   "source": []
  },
  {
   "cell_type": "code",
   "execution_count": null,
   "metadata": {},
   "outputs": [],
   "source": []
  },
  {
   "cell_type": "code",
   "execution_count": null,
   "metadata": {},
   "outputs": [],
   "source": []
  },
  {
   "cell_type": "code",
   "execution_count": null,
   "metadata": {},
   "outputs": [],
   "source": []
  },
  {
   "cell_type": "code",
   "execution_count": null,
   "metadata": {},
   "outputs": [],
   "source": []
  },
  {
   "cell_type": "code",
   "execution_count": null,
   "metadata": {},
   "outputs": [],
   "source": []
  },
  {
   "cell_type": "code",
   "execution_count": null,
   "metadata": {},
   "outputs": [],
   "source": []
  },
  {
   "cell_type": "code",
   "execution_count": null,
   "metadata": {},
   "outputs": [],
   "source": []
  }
 ],
 "metadata": {
  "kernelspec": {
   "display_name": "trade",
   "language": "python",
   "name": "python3"
  },
  "language_info": {
   "codemirror_mode": {
    "name": "ipython",
    "version": 3
   },
   "file_extension": ".py",
   "mimetype": "text/x-python",
   "name": "python",
   "nbconvert_exporter": "python",
   "pygments_lexer": "ipython3",
   "version": "3.10.13"
  }
 },
 "nbformat": 4,
 "nbformat_minor": 2
}
