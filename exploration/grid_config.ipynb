{
 "cells": [
  {
   "cell_type": "code",
   "execution_count": null,
   "metadata": {},
   "outputs": [],
   "source": [
    "from grid_optimizer import GridOptimizer\n",
    "from tqdm import tqdm\n",
    "from data import Data\n",
    "from plotting import CandlePlot\n",
    "import pandas as pd\n",
    "\n",
    "data_path = '../data/'\n",
    "out_path = 'D:/Trading/ml4t-data/grid/'\n",
    "instruments = \"../data/instruments.json\""
   ]
  },
  {
   "cell_type": "code",
   "execution_count": null,
   "metadata": {},
   "outputs": [],
   "source": [
    "dummyrun = False\n",
    "checkpoint=0\n",
    "counter=50000\n",
    "start=None  \n",
    "end=None\n",
    "records=['events']\n",
    "tickers=['EUR_USD']\n",
    "frequency=['M5']\n",
    "init_bal=[1000]\n",
    "init_trade_size=[100]\n",
    "grid_pips=[10, 20]\n",
    "sl_grid_count=[5] #, 3, 5, 10, 20]\n",
    "stop_loss_type=['grid_count_max_unrealised_pnl']\n",
    "margin_sl_percent=[0.80]\n",
    "sizing=['dynamic', 'static']\n",
    "cash_out_factor=[None]\n",
    "cover_stopped_loss = [False]\n",
    "martingale_sizing = [False]\n",
    "max_unrealised_pnl = [0.10]\n",
    "inputs_file='inputs.30c.csv'"
   ]
  },
  {
   "cell_type": "code",
   "execution_count": null,
   "metadata": {},
   "outputs": [],
   "source": [
    "optim = GridOptimizer(\n",
    "    checkpoint=checkpoint,\n",
    "    counter=counter,\n",
    "    start=start,\n",
    "    end=end,\n",
    "    records=records,\n",
    "    tickers=tickers,\n",
    "    frequency=frequency,\n",
    "    init_bal=init_bal,      \n",
    "    init_trade_size=init_trade_size,\n",
    "    grid_pips=grid_pips,\n",
    "    sl_grid_count=sl_grid_count,\n",
    "    stop_loss_type=stop_loss_type,\n",
    "    margin_sl_percent=margin_sl_percent,\n",
    "    sizing=sizing,\n",
    "    cash_out_factor=cash_out_factor,\n",
    "    cover_stopped_loss=cover_stopped_loss,\n",
    "    martigale_sizing=martingale_sizing,\n",
    "    max_unrealised_pnl=max_unrealised_pnl,\n",
    "    data_path=data_path,\n",
    "    instruments=instruments,\n",
    "    out_path=out_path,\n",
    "    inputs_file=inputs_file,\n",
    "    dummyrun=dummyrun\n",
    ")"
   ]
  },
  {
   "cell_type": "code",
   "execution_count": null,
   "metadata": {},
   "outputs": [],
   "source": [
    "tk = tickers[0]\n",
    "f = frequency[0]\n",
    "df = optim.read_data(tk, f).iloc[start:end]"
   ]
  },
  {
   "cell_type": "code",
   "execution_count": null,
   "metadata": {},
   "outputs": [],
   "source": [
    "df['dt'] = df.time.dt.date\n",
    "df['yearmonth'] = df.time.dt.year.astype(str) + '-' + df.time.dt.month.astype(str)\n",
    "df"
   ]
  },
  {
   "cell_type": "code",
   "execution_count": null,
   "metadata": {},
   "outputs": [],
   "source": [
    "df.groupby(by='dt').count()['time'].mean()"
   ]
  },
  {
   "cell_type": "code",
   "execution_count": null,
   "metadata": {},
   "outputs": [],
   "source": [
    "df.groupby(by='yearmonth').count()['time'].mean()"
   ]
  },
  {
   "cell_type": "code",
   "execution_count": null,
   "metadata": {},
   "outputs": [],
   "source": [
    "6190.65625 / 238.77179590196866"
   ]
  },
  {
   "cell_type": "code",
   "execution_count": null,
   "metadata": {},
   "outputs": [],
   "source": [
    "df['newdate'] = df.dt != df.dt.shift(1)\n",
    "df.iloc[280:300]"
   ]
  },
  {
   "cell_type": "code",
   "execution_count": null,
   "metadata": {},
   "outputs": [],
   "source": [
    "df['newmonth'] = df.yearmonth != df.yearmonth.shift(1)"
   ]
  },
  {
   "cell_type": "code",
   "execution_count": null,
   "metadata": {},
   "outputs": [],
   "source": [
    "df2 = df.iloc[:].copy()"
   ]
  },
  {
   "cell_type": "code",
   "execution_count": null,
   "metadata": {},
   "outputs": [],
   "source": [
    "# set first newdate / newmonth to False\n",
    "df2.iloc[0, -1] = False\n",
    "df2.iloc[0, -2] = False\n",
    "df2"
   ]
  },
  {
   "cell_type": "code",
   "execution_count": null,
   "metadata": {},
   "outputs": [],
   "source": [
    "# df2['mean_c'] = np.where(df.newdate == True, df2[df2.dt], None)"
   ]
  },
  {
   "cell_type": "code",
   "execution_count": null,
   "metadata": {},
   "outputs": [],
   "source": [
    "d =Data(\n",
    "    source=df2.copy(),\n",
    "    ticker=tickers[0],\n",
    "    cols=['time', 'mid_o', 'mid_h', 'mid_l', 'mid_c', 'dt', 'newdate', 'yearmonth', 'newmonth'],\n",
    "    instruments=instruments\n",
    ")"
   ]
  },
  {
   "cell_type": "code",
   "execution_count": null,
   "metadata": {},
   "outputs": [],
   "source": [
    "add_cols = dict(\n",
    "    dayhigh=float,\n",
    "    daylow=float,\n",
    "    daymid=float,\n",
    "    daymean=float,\n",
    "    daymedian=float,\n",
    "    day1stdup=float,\n",
    "    day1stddown=float,\n",
    "    day2stdup=float,\n",
    "    day2stddown=float,\n",
    "    day3stdup=float,\n",
    "    day3stddown=float,\n",
    "    monthhigh=float,\n",
    "    monthlow=float,\n",
    "    monthmid=float,\n",
    "    monthmean=float,\n",
    "    monthmedian=float,\n",
    "    month1stdup=float,\n",
    "    month1stddown=float,\n",
    "    month2stdup=float,\n",
    "    month2stddown=float,\n",
    "    month3stdup=float,\n",
    "    month3stddown=float\n",
    ")\n",
    "\n",
    "d.prepare_fast_data(name='test', start=0, end=d.datalen, add_cols=add_cols)"
   ]
  },
  {
   "cell_type": "code",
   "execution_count": null,
   "metadata": {},
   "outputs": [],
   "source": [
    "d"
   ]
  },
  {
   "cell_type": "code",
   "execution_count": null,
   "metadata": {},
   "outputs": [],
   "source": [
    "for i in tqdm(range(d.fdatalen), desc=\" Processing... \"):\n",
    "    if d.fdata('newdate', i) == True:\n",
    "        prevday_df = d.df['test'][d.df['test'].dt == d.fdata('dt', i-1)]\n",
    "        d.update_fdata('dayhigh', i, prevday_df.mid_c.max())\n",
    "        d.update_fdata('daylow', i, prevday_df.mid_c.min())\n",
    "        d.update_fdata('daymid', i, (prevday_df.mid_c.max() + prevday_df.mid_c.min()) / 2)\n",
    "        d.update_fdata('daymean', i, prevday_df.mid_c.mean())\n",
    "        d.update_fdata('daymedian', i, prevday_df.mid_c.median())\n",
    "        std = prevday_df.mid_c.std()\n",
    "        d.update_fdata('day1stdup', i, prevday_df.mid_c.mean() + std)\n",
    "        d.update_fdata('day1stddown', i, prevday_df.mid_c.mean() - std)\n",
    "        d.update_fdata('day2stdup', i, prevday_df.mid_c.mean() + 2 * std)\n",
    "        d.update_fdata('day2stddown', i, prevday_df.mid_c.mean() - 2 * std)\n",
    "        d.update_fdata('day3stdup', i, prevday_df.mid_c.mean() + 3 * std)\n",
    "        d.update_fdata('day3stddown', i, prevday_df.mid_c.mean() - 3 * std)\n",
    "    if d.fdata('newmonth', i) == True:\n",
    "        prevmonth_df = d.df['test'][d.df['test'].yearmonth == d.fdata('yearmonth', i-1)]\n",
    "        d.update_fdata('monthhigh', i, prevmonth_df.mid_c.max())\n",
    "        d.update_fdata('monthlow', i, prevmonth_df.mid_c.min())\n",
    "        d.update_fdata('monthmid', i, (prevmonth_df.mid_c.max() + prevmonth_df.mid_c.min()) / 2)\n",
    "        d.update_fdata('monthmean', i, prevmonth_df.mid_c.mean())\n",
    "        d.update_fdata('monthmedian', i, prevmonth_df.mid_c.median())\n",
    "        std = prevmonth_df.mid_c.std()\n",
    "        d.update_fdata('month1stdup', i, prevmonth_df.mid_c.mean() + std)\n",
    "        d.update_fdata('month1stddown', i, prevmonth_df.mid_c.mean() - std)\n",
    "        d.update_fdata('month2stdup', i, prevmonth_df.mid_c.mean() + 2 * std)\n",
    "        d.update_fdata('month2stddown', i, prevmonth_df.mid_c.mean() - 2 * std)\n",
    "        d.update_fdata('month3stdup', i, prevmonth_df.mid_c.mean() + 3 * std)\n",
    "        d.update_fdata('month3stddown', i, prevmonth_df.mid_c.mean() - 3 * std)\n",
    "\n",
    "d.df['test'].ffill(inplace=True)"
   ]
  },
  {
   "cell_type": "code",
   "execution_count": null,
   "metadata": {},
   "outputs": [],
   "source": [
    "d.df['test'][d.df['test'].newmonth]"
   ]
  },
  {
   "cell_type": "code",
   "execution_count": null,
   "metadata": {},
   "outputs": [],
   "source": [
    "cp = CandlePlot(d.df['test'], candles=False)\n",
    "# cp.create_candle_fig()\n",
    "cp.show_plot(line_traces=['mid_c', 'day1stdup', 'day1stddown', 'daymean'])"
   ]
  },
  {
   "cell_type": "code",
   "execution_count": null,
   "metadata": {},
   "outputs": [],
   "source": [
    "cp = CandlePlot(d.df['test'], candles=False)\n",
    "# cp.create_candle_fig()\n",
    "cp.show_plot(line_traces=['mid_c', 'month1stdup', 'month1stddown', 'monthmean'])"
   ]
  }
 ],
 "metadata": {
  "kernelspec": {
   "display_name": "trade",
   "language": "python",
   "name": "python3"
  },
  "language_info": {
   "codemirror_mode": {
    "name": "ipython",
    "version": 3
   },
   "file_extension": ".py",
   "mimetype": "text/x-python",
   "name": "python",
   "nbconvert_exporter": "python",
   "pygments_lexer": "ipython3",
   "version": "3.10.13"
  }
 },
 "nbformat": 4,
 "nbformat_minor": 2
}
