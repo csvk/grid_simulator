{
 "cells": [
  {
   "cell_type": "code",
   "execution_count": 1,
   "metadata": {},
   "outputs": [],
   "source": [
    "import pandas as pd\n",
    "import numpy as np\n",
    "import datetime as dt\n",
    "from tqdm import tqdm\n",
    "from tabulate import tabulate\n",
    "import pyarrow as pa\n",
    "import pyarrow.parquet as pq\n",
    "import json\n",
    "import pickle as pkl\n",
    "import plotly.graph_objects as go\n",
    "from plotting import CandlePlot\n",
    "pd.set_option(\"display.max_columns\", None)"
   ]
  },
  {
   "cell_type": "code",
   "execution_count": 2,
   "metadata": {},
   "outputs": [],
   "source": [
    "class Data:\n",
    "    \n",
    "    def __init__(self, source):\n",
    "        assert type(source) == str or type(source) == pd.DataFrame, 'Invalid source'\n",
    "        if type(source) == str:\n",
    "            self.df = {\n",
    "                'raw': pd.read_pickle(source)\n",
    "            }\n",
    "        elif type(source) == pd.DataFrame:\n",
    "            self.df = {\n",
    "                'raw': source.copy()\n",
    "            }            \n",
    "\n",
    "        if 'time' in self.df['raw'].columns:\n",
    "            self.df['raw']['time'] = [ x.replace(tzinfo=None) for x in self.df['raw']['time']]\n",
    "        self.datalen = self.df['raw'].shape[0]\n",
    "\n",
    "    def __repr__(self) -> str:\n",
    "        repr = str()\n",
    "        for name, df in self.df.items():\n",
    "            repr = repr + name + ':\\n' + str(pd.concat([df.head(2), df.tail(1)])) + '\\n'\n",
    "        return repr\n",
    "\n",
    "    def prep_data(self, name: str, start: int, end: int, source: str='raw', cols: list=None):\n",
    "        '''Create new dataframe with specified list of columns and number of rows as preparation for fast data creation\n",
    "        '''\n",
    "        # assert (direction != 1 or direction != -1), 'direction must be 1 (top) or -1 (bottom)'\n",
    "\n",
    "        if cols == None:\n",
    "            cols = self.df[source].columns\n",
    "        # if direction == 1:\n",
    "        #     self.df[name] = self.df[source][cols].iloc[:rows].copy()\n",
    "        # else:\n",
    "        #     self.df[name] = self.df[source][cols].iloc[-rows:].copy()\n",
    "        if start == None:\n",
    "            start = 0\n",
    "        if end == None:\n",
    "            end = self.datalen\n",
    "\n",
    "        assert end > start, f'start={start}, end={end} not valid'\n",
    "\n",
    "        self.df[name] = self.df[source][cols].iloc[start:end].copy()\n",
    "        self.df[name].reset_index(drop=True, inplace=True)\n",
    "\n",
    "    def add_columns(self, name: str, cols: dict):\n",
    "        '''Add new columns to component dataframes\n",
    "        '''        \n",
    "        exist_cols = list(self.df[name].columns)\n",
    "        # cols = exist_cols + cols\n",
    "        for col, _type in cols.items():\n",
    "            self.df[name][col] = pd.Series(dtype=_type) #self.df[name][col].apply(_type)\n",
    "        # self.df[name] = self.df[name].reindex(columns = cols) \n",
    "\n",
    "    def prepare_fast_data(self, name: str, start: int, end: int, source: str='raw', cols: list=None, add_cols: dict=None):\n",
    "        '''Prepare data as an array for fast processing\n",
    "        fcols = {col1: col1_index, col2: col2_index, .... }     \n",
    "        fastdf = [array[col1], array[col2], array[col3], .... ]\n",
    "        Accessed by: self.fdata()\n",
    "        '''\n",
    "\n",
    "        self.prep_data(name=name, start=start, end=end, source=source, cols=cols)\n",
    "        if add_cols:\n",
    "            # types = dict() if types is None else types\n",
    "            self.add_columns(name=name, cols=add_cols)\n",
    "\n",
    "        self.fcols = dict()\n",
    "        for i in range(len(self.df[name].columns)):\n",
    "            self.fcols[self.df[name].columns[i]] = i\n",
    "        self.fastdf = [self.df[name][col].array for col in self.df[name].columns]\n",
    "        self.fdatalen = len(self.fastdf[0])\n",
    "\n",
    "    def fdata(self, column: str=None, index: int=None, rows: int=None):\n",
    "        if column is None:\n",
    "            return self.fastdf\n",
    "        if index is None:\n",
    "            return self.fastdf[self.fcols[column]]\n",
    "        else:\n",
    "            if rows:\n",
    "                try:\n",
    "                    return self.fastdf[self.fcols[column]][index:index+rows]\n",
    "                except:\n",
    "                    return self.fastdf[self.fcols[column]][index:]\n",
    "            else:\n",
    "                return self.fastdf[self.fcols[column]][index]\n",
    "        \n",
    "    def update_fdata(self, column: str, index: int=None, value: float=None):\n",
    "        assert value is not None, 'Value cannot be null'\n",
    "        if index is None:\n",
    "            assert len(value) == self.fdatalen\n",
    "            for i in range(self.fdatalen):\n",
    "                self.fastdf[self.fcols[column]][i] = value[i]\n",
    "                print(i, )\n",
    "        else:\n",
    "            self.fastdf[self.fcols[column]][index] = value"
   ]
  },
  {
   "cell_type": "code",
   "execution_count": 3,
   "metadata": {},
   "outputs": [],
   "source": [
    "with open(\"../data/instruments.json\", 'r') as f:\n",
    "    instr = json.load(f)"
   ]
  },
  {
   "cell_type": "code",
   "execution_count": 4,
   "metadata": {},
   "outputs": [],
   "source": [
    "ticker = 'EUR_GBP'"
   ]
  },
  {
   "cell_type": "code",
   "execution_count": 5,
   "metadata": {},
   "outputs": [
    {
     "data": {
      "text/plain": [
       "{'name': 'EUR_GBP',\n",
       " 'type': 'CURRENCY',\n",
       " 'displayName': 'EUR/GBP',\n",
       " 'pipLocation': -4,\n",
       " 'displayPrecision': 5,\n",
       " 'tradeUnitsPrecision': 0,\n",
       " 'minimumTradeSize': '1',\n",
       " 'marginRate': '0.03333333333333'}"
      ]
     },
     "execution_count": 5,
     "metadata": {},
     "output_type": "execute_result"
    }
   ],
   "source": [
    "instr[ticker]"
   ]
  },
  {
   "cell_type": "code",
   "execution_count": 6,
   "metadata": {},
   "outputs": [],
   "source": [
    "# df = pd.read_pickle(f\"../data/{ticker}_M5.pkl\")"
   ]
  },
  {
   "cell_type": "code",
   "execution_count": 7,
   "metadata": {},
   "outputs": [],
   "source": [
    "# df['pip_return'] = (df.mid_c - df.mid_c.shift(1)) * pow(10, -instr[ticker]['pipLocation'])"
   ]
  },
  {
   "cell_type": "code",
   "execution_count": 8,
   "metadata": {},
   "outputs": [],
   "source": [
    "# pd.concat([df.head(3), df.tail(3)])"
   ]
  },
  {
   "cell_type": "code",
   "execution_count": 9,
   "metadata": {},
   "outputs": [],
   "source": [
    "# our_cols = ['time', 'mid_c', 'mid_c', 'bid_c', 'ask_c']"
   ]
  },
  {
   "cell_type": "code",
   "execution_count": 10,
   "metadata": {},
   "outputs": [],
   "source": [
    "# d = Data(df[our_cols])\n",
    "# d"
   ]
  },
  {
   "cell_type": "code",
   "execution_count": 11,
   "metadata": {},
   "outputs": [],
   "source": [
    "SIZE, ENTRY, TP, SL = 0, 1, 2, 3\n",
    "EXIT, PIPS = 2, 3"
   ]
  },
  {
   "cell_type": "code",
   "execution_count": 12,
   "metadata": {},
   "outputs": [],
   "source": [
    "def read_data(ticker: str, frequency: str):\n",
    "    our_cols = ['time', 'mid_c', 'bid_c', 'ask_c']\n",
    "    df = pd.read_pickle(f\"../data/{ticker}_{frequency}.pkl\")\n",
    "    return df[our_cols]"
   ]
  },
  {
   "cell_type": "code",
   "execution_count": 13,
   "metadata": {},
   "outputs": [],
   "source": [
    "def cum_long_position(d: Data, i: int):\n",
    "    open_longs = d.fdata('open_longs', i).copy() if type(d.fdata('open_longs', i)) == dict else dict()\n",
    "    cum_long_position = 0\n",
    "    for _, trade in open_longs.items():\n",
    "        cum_long_position = cum_long_position + trade[SIZE]\n",
    "    return cum_long_position\n",
    "\n",
    "def cum_short_position(d: Data, i: int):\n",
    "    open_shorts = d.fdata('open_shorts', i).copy() if type(d.fdata('open_shorts', i)) == dict else dict()\n",
    "    cum_short_position = 0\n",
    "    for _, trade in open_shorts.items():\n",
    "        cum_short_position = cum_short_position + trade[SIZE]\n",
    "    return cum_short_position\n",
    "\n",
    "def unrealised_pnl(d: Data, i: int):\n",
    "    open_longs = d.fdata('open_longs', i).copy() if type(d.fdata('open_longs', i)) == dict else dict()\n",
    "    open_shorts = d.fdata('open_shorts', i).copy() if type(d.fdata('open_shorts', i)) == dict else dict()\n",
    "    pnl = 0\n",
    "    for _, trade in open_longs.items():\n",
    "        pnl = pnl + trade[SIZE] * (d.fdata('mid_c', i) - trade[ENTRY])\n",
    "    for _, trade in open_shorts.items():\n",
    "        pnl = pnl + trade[SIZE] * (trade[ENTRY] - d.fdata('mid_c', i))\n",
    "    return round(pnl, 2)\n",
    "\n",
    "def realised_pnl(d: Data, i: int):\n",
    "    closed_longs = d.fdata('closed_longs', i).copy() if type(d.fdata('closed_longs', i)) == dict else dict()\n",
    "    closed_shorts = d.fdata('closed_shorts', i).copy() if type(d.fdata('closed_shorts', i)) == dict else dict()\n",
    "    pnl = 0\n",
    "    for _, trade in closed_longs.items():\n",
    "        pnl = pnl + trade[SIZE] * (trade[EXIT] - trade[ENTRY])\n",
    "    for _, trade in closed_shorts.items():\n",
    "        pnl = pnl + trade[SIZE] * (trade[ENTRY] - trade[EXIT])\n",
    "    return round(pnl, 2)\n",
    "\n",
    "def unrealised_pnl_prev_bar(d: Data, i: int):\n",
    "    open_longs = d.fdata('open_longs', i-1).copy() if type(d.fdata('open_longs', i)) == dict else dict()\n",
    "    open_shorts = d.fdata('open_shorts', i-1).copy() if type(d.fdata('open_shorts', i)) == dict else dict()\n",
    "    pnl = 0\n",
    "    for _, trade in open_longs.items():\n",
    "        pnl = pnl + trade[SIZE] * (d.fdata('mid_c', i) - trade[ENTRY])\n",
    "    for _, trade in open_shorts.items():\n",
    "        pnl = pnl + trade[SIZE] * (trade[ENTRY] - d.fdata('mid_c', i))\n",
    "    return round(pnl, 2)"
   ]
  },
  {
   "cell_type": "code",
   "execution_count": 14,
   "metadata": {},
   "outputs": [],
   "source": [
    "def dynamic_trade_size(d: Data, i: int, sizing_ratio: float):\n",
    "    # _ac_bal = d.fdata('ac_bal', i-1) + d.fdata('realised_pnl', i)\n",
    "    _net_bal = d.fdata('ac_bal', i-1) + unrealised_pnl_prev_bar(d, i)\n",
    "    return int(_net_bal * sizing_ratio)   "
   ]
  },
  {
   "cell_type": "code",
   "execution_count": 15,
   "metadata": {},
   "outputs": [],
   "source": [
    "def open_trades(d: Data, i: int, tp_pips: int, sl_pips: int, init_trade_size: int, sizing: str, sizing_ratio: float, trade_no: int):\n",
    "    long_tp = d.fdata('mid_c', i) + tp_pips * pow(10, instr[ticker]['pipLocation'])\n",
    "    short_tp = d.fdata('mid_c', i) - tp_pips * pow(10, instr[ticker]['pipLocation'])\n",
    "\n",
    "    long_sl = d.fdata('mid_c', i) - sl_pips * pow(10, instr[ticker]['pipLocation'])\n",
    "    short_sl = d.fdata('mid_c', i) + sl_pips * pow(10, instr[ticker]['pipLocation'])\n",
    "\n",
    "    if i == 0:\n",
    "        open_longs, open_shorts = dict(), dict()\n",
    "        trade_size = init_trade_size\n",
    "    else:\n",
    "        open_longs, open_shorts = d.fdata('open_longs', i-1).copy(), d.fdata('open_shorts', i-1).copy()\n",
    "        # Temporary data population for dynamic trade size calculation\n",
    "        d.update_fdata('open_longs', i, open_longs)\n",
    "        d.update_fdata('open_shorts', i, open_shorts)\n",
    "        trade_size = init_trade_size if sizing == 'static' else dynamic_trade_size(d, i, sizing_ratio)\n",
    "\n",
    "    open_longs[trade_no] = (trade_size, d.fdata('ask_c', i), long_tp, long_sl) # (SIZE, ENTRY, TP, SL)\n",
    "    d.update_fdata('open_longs', i, open_longs)\n",
    "    # d.update_fdata('open_longs', i, str(open_longs).replace(\"'\",'\"'))\n",
    "    open_shorts[trade_no] = (trade_size, d.fdata('bid_c', i), short_tp, short_sl) # (SIZE, ENTRY, TP, SL)\n",
    "    d.update_fdata('open_shorts', i, open_shorts)\n",
    "    # d.update_fdata('open_shorts', i, str(open_shorts).replace(\"'\",'\"'))\n",
    "\n",
    "    if d.fdata('trade_type', i) != 0: # Do not update if stop loss was triggered on this bar\n",
    "        d.update_fdata('trade_type', i, 1)\n",
    "    \n",
    "    return long_tp, short_tp # equals next_up_grid, next_down_grid for next grid level trades"
   ]
  },
  {
   "cell_type": "code",
   "execution_count": 16,
   "metadata": {},
   "outputs": [],
   "source": [
    "def close_long(d: Data, i: int, trade_no: int, sl=False):\n",
    "    # Remove from open longs\n",
    "    open_longs = d.fdata('open_longs', i).copy()\n",
    "    closing_long = open_longs[trade_no]\n",
    "    del open_longs[trade_no]\n",
    "    d.update_fdata('open_longs', i, open_longs)\n",
    "\n",
    "    # Append to closed longs\n",
    "    pips = (d.fdata('ask_c', i) - closing_long[ENTRY]) * pow(10, -instr[ticker]['pipLocation'])\n",
    "    # if type(d.fdata('closed_longs', i)) != dict:\n",
    "    #     closed_longs = dict()\n",
    "    # else:\n",
    "    #     closed_longs = d.fdata('closed_longs', i).copy()\n",
    "    closed_longs = d.fdata('closed_longs', i).copy() if type(d.fdata('closed_longs', i)) == dict else dict()\n",
    "    closed_longs[trade_no] = (closing_long[SIZE], closing_long[ENTRY], d.fdata('bid_c', i), round(pips, 1)) # (SIZE, ENTRY, EXIT, PIPS)\n",
    "\n",
    "    d.update_fdata('closed_longs', i, closed_longs)\n",
    "    if sl == True:\n",
    "        d.update_fdata('trade_type', i, 0)\n",
    "    else:\n",
    "        d.update_fdata('trade_type', i, 1)"
   ]
  },
  {
   "cell_type": "code",
   "execution_count": 17,
   "metadata": {},
   "outputs": [],
   "source": [
    "def close_short(d: Data, i: int, trade_no: int, sl=False):\n",
    "    # Remove from open shorts\n",
    "    open_shorts = d.fdata('open_shorts', i).copy()\n",
    "    closing_short = open_shorts[trade_no]\n",
    "    del open_shorts[trade_no]\n",
    "    d.update_fdata('open_shorts', i, open_shorts)\n",
    "\n",
    "    # Append to closed shorts\n",
    "    pips = (closing_short[ENTRY] - d.fdata('bid_c', i)) * pow(10, -instr[ticker]['pipLocation'])\n",
    "    # if type(d.fdata('closed_shorts', i)) != dict:\n",
    "    #     closed_shorts = dict()\n",
    "    # else:\n",
    "    #     closed_shorts = d.fdata('closed_shorts', i).copy()\n",
    "    closed_shorts = d.fdata('closed_shorts', i).copy() if type(d.fdata('closed_shorts', i)) == dict else dict()\n",
    "    closed_shorts[trade_no] = (closing_short[SIZE], closing_short[ENTRY], d.fdata('ask_c', i), round(pips, 1)) # (SIZE, ENTRY, EXIT, PIPS)\n",
    "\n",
    "    d.update_fdata('closed_shorts', i, closed_shorts)\n",
    "    if sl == True:\n",
    "        d.update_fdata('trade_type', i, 0)\n",
    "    else:\n",
    "        d.update_fdata('trade_type', i, 1)"
   ]
  },
  {
   "cell_type": "code",
   "execution_count": 18,
   "metadata": {},
   "outputs": [],
   "source": [
    "def current_values(d, i):\n",
    "    _cum_long_position = cum_long_position(d, i)\n",
    "    _cum_short_position = cum_short_position(d, i)\n",
    "    _unrealised_pnl = unrealised_pnl(d, i)\n",
    "    _realised_pnl = realised_pnl(d, i)\n",
    "    ac_bal = d.fdata('ac_bal', i-1) + _realised_pnl\n",
    "    margin_used = (_cum_long_position + _cum_short_position) * float(instr[ticker]['marginRate'])\n",
    "    margin_closeout = ac_bal + _unrealised_pnl\n",
    "    return margin_used, margin_closeout\n",
    "\n",
    "def stop_loss_oldest(d: Data, i: int, margin_sl_percent: float=0.5):\n",
    "    margin_used, margin_closeout = current_values(d, i)\n",
    "    # Margin call is triggered when margin closeout is less than 50% of margin used.\n",
    "    # Here stop loss is triggered if it falls below margin_sl_percent\n",
    "    if margin_closeout < margin_used * margin_sl_percent:\n",
    "        reduced_margin = margin_closeout / margin_sl_percent\n",
    "        while reduced_margin < margin_used:\n",
    "            longs = list(d.fdata('open_longs', i).keys())\n",
    "            shorts = list(d.fdata('open_shorts', i).keys())\n",
    "            oldest_long = longs[0] if len(longs) > 0 else None\n",
    "            oldest_short = shorts[0] if len(shorts) > 0 else None\n",
    "            if oldest_long == None and oldest_short == None:\n",
    "                break\n",
    "            elif oldest_long == None:\n",
    "                close_short(d, i, oldest_short, sl=True)\n",
    "                margin_used, _ = current_values(d, i)\n",
    "                # print(f'stop loss: {i}, short: {oldest_short}')\n",
    "            elif oldest_short == None:\n",
    "                close_long(d, i, oldest_long, sl=True)\n",
    "                margin_used, _ = current_values(d, i)\n",
    "                # print(f'stop loss: {i}, long: {oldest_long}')\n",
    "            else:\n",
    "                if oldest_long <= oldest_short:\n",
    "                    close_long(d, i, oldest_long, sl=True)\n",
    "                    margin_used, _ = current_values(d, i)\n",
    "                    # print(f'stop loss: {i}, long: {oldest_long}')\n",
    "                else:\n",
    "                    close_short(d, i, oldest_short, sl=True)\n",
    "                    margin_used, _ = current_values(d, i)\n",
    "                    # print(f'stop loss: {i}, short: {oldest_short}')\n",
    "\n",
    "def stop_loss_farthest(d: Data, i: int, margin_sl_percent: float):\n",
    "    margin_used, margin_closeout = current_values(d, i)\n",
    "    # Margin call is triggered when margin closeout is less than 50% of margin used.\n",
    "    # Here stop loss is triggered if it falls below margin_sl_percent\n",
    "    price = d.fdata('mid_c', i)\n",
    "    if margin_closeout < margin_used * margin_sl_percent:\n",
    "        reduced_margin = margin_closeout / margin_sl_percent\n",
    "        while reduced_margin < margin_used:\n",
    "            farthest_long_price, farthest_short_price = price, price\n",
    "            farthest_long, farthest_short = None, None\n",
    "            for long, trade in d.fdata('open_longs', i).items():\n",
    "                if trade[ENTRY] > farthest_long_price:\n",
    "                    farthest_long_price = trade[ENTRY]\n",
    "                    farthest_long = long\n",
    "            for short, trade in d.fdata('open_shorts', i).items():\n",
    "                if trade[ENTRY] < farthest_short_price:\n",
    "                    farthest_short_price = trade[ENTRY]\n",
    "                    farthest_short = short\n",
    "            if farthest_long == None and farthest_short == None:\n",
    "                break\n",
    "            elif farthest_long == None:\n",
    "                close_short(d, i, farthest_short, sl=True)\n",
    "                margin_used, _ = current_values(d, i)\n",
    "                # print(f'stop loss: {i}, short: {farthest_short}')\n",
    "            elif farthest_short == None:\n",
    "                close_long(d, i, farthest_long, sl=True)\n",
    "                margin_used, _ = current_values(d, i)\n",
    "                # print(f'stop loss: {i}, long: {farthest_long}')\n",
    "            else:\n",
    "                if farthest_long_price - price > price - farthest_short_price:\n",
    "                    close_long(d, i, farthest_long, sl=True)\n",
    "                    margin_used, _ = current_values(d, i)\n",
    "                    # print(f'stop loss: {i}, long: {farthest_long}')\n",
    "                else:\n",
    "                    close_short(d, i, farthest_short, sl=True)\n",
    "                    margin_used, _ = current_values(d, i)\n",
    "                    # print(f'stop loss: {i}, short: {farthest_short}')\n",
    "\n",
    "def stop_loss_oldest_1(d: Data, i: int, margin_sl_percent: float=0.5):\n",
    "    margin_used, margin_closeout = current_values(d, i)\n",
    "    # Margin call is triggered when margin closeout is less than 50% of margin used.\n",
    "    # Here stop loss is triggered if it falls below margin_sl_percent\n",
    "    if margin_closeout < margin_used * margin_sl_percent:\n",
    "        longs = list(d.fdata('open_longs', i).keys())\n",
    "        shorts = list(d.fdata('open_shorts', i).keys())\n",
    "        oldest_long = longs[0] if len(longs) > 0 else None\n",
    "        oldest_short = shorts[0] if len(shorts) > 0 else None\n",
    "        if oldest_long == None and oldest_short == None:\n",
    "            pass\n",
    "        elif oldest_long == None:\n",
    "            close_short(d, i, oldest_short, sl=True)\n",
    "            margin_used, _ = current_values(d, i)\n",
    "            # print(f'stop loss: {i}, short: {oldest_short}')\n",
    "        elif oldest_short == None:\n",
    "            close_long(d, i, oldest_long, sl=True)\n",
    "            margin_used, _ = current_values(d, i)\n",
    "            # print(f'stop loss: {i}, long: {oldest_long}')\n",
    "        else:\n",
    "            if oldest_long <= oldest_short:\n",
    "                close_long(d, i, oldest_long, sl=True)\n",
    "                margin_used, _ = current_values(d, i)\n",
    "                # print(f'stop loss: {i}, long: {oldest_long}')\n",
    "            else:\n",
    "                close_short(d, i, oldest_short, sl=True)\n",
    "                margin_used, _ = current_values(d, i)\n",
    "                # print(f'stop loss: {i}, short: {oldest_short}')\n",
    "\n",
    "def stop_loss_farthest_1(d: Data, i: int, margin_sl_percent: float):\n",
    "    margin_used, margin_closeout = current_values(d, i)\n",
    "    # Margin call is triggered when margin closeout is less than 50% of margin used.\n",
    "    # Here stop loss is triggered if it falls below margin_sl_percent\n",
    "    price = d.fdata('mid_c', i)\n",
    "    if margin_closeout < margin_used * margin_sl_percent:\n",
    "        farthest_long_price, farthest_short_price = price, price\n",
    "        farthest_long, farthest_short = None, None\n",
    "        for long, trade in d.fdata('open_longs', i).items():\n",
    "            if trade[ENTRY] > farthest_long_price:\n",
    "                farthest_long_price = trade[ENTRY]\n",
    "                farthest_long = long\n",
    "        for short, trade in d.fdata('open_shorts', i).items():\n",
    "            if trade[ENTRY] < farthest_short_price:\n",
    "                farthest_short_price = trade[ENTRY]\n",
    "                farthest_short = short\n",
    "        if farthest_long == None and farthest_short == None:\n",
    "            pass\n",
    "        elif farthest_long == None:\n",
    "            close_short(d, i, farthest_short, sl=True)\n",
    "            margin_used, _ = current_values(d, i)\n",
    "            # print(f'stop loss: {i}, short: {farthest_short}')\n",
    "        elif farthest_short == None:\n",
    "            close_long(d, i, farthest_long, sl=True)\n",
    "            margin_used, _ = current_values(d, i)\n",
    "            # print(f'stop loss: {i}, long: {farthest_long}')\n",
    "        else:\n",
    "            if farthest_long_price - price > price - farthest_short_price:\n",
    "                close_long(d, i, farthest_long, sl=True)\n",
    "                margin_used, _ = current_values(d, i)\n",
    "                # print(f'stop loss: {i}, long: {farthest_long}')\n",
    "            else:\n",
    "                close_short(d, i, farthest_short, sl=True)\n",
    "                margin_used, _ = current_values(d, i)\n",
    "                # print(f'stop loss: {i}, short: {farthest_short}')"
   ]
  },
  {
   "cell_type": "code",
   "execution_count": 19,
   "metadata": {},
   "outputs": [],
   "source": [
    "def calc_ac_values(d: Data, i: int, init_bal: float=None):\n",
    "    d.update_fdata('cum_long_position', i, cum_long_position(d, i))\n",
    "    d.update_fdata('cum_short_position', i, cum_short_position(d, i))\n",
    "    d.update_fdata('unrealised_pnl', i, unrealised_pnl(d, i))\n",
    "    d.update_fdata('realised_pnl', i, realised_pnl(d, i))\n",
    "    # First candle\n",
    "    if i == 0:               \n",
    "        d.update_fdata('ac_bal', i, init_bal)\n",
    "    # Subsequent candles\n",
    "    else:\n",
    "        d.update_fdata('ac_bal', i, round(d.fdata('ac_bal', i-1) + d.fdata('realised_pnl', i), 2))\n",
    "    d.update_fdata('margin_used', i, \\\n",
    "                round((d.fdata('cum_long_position', i) + d.fdata('cum_short_position', i)) * float(instr[ticker]['marginRate']), 2))\n",
    "    d.update_fdata('margin_closeout', i, round(d.fdata('ac_bal', i) + d.fdata('unrealised_pnl', i), 2))"
   ]
  },
  {
   "cell_type": "code",
   "execution_count": 20,
   "metadata": {},
   "outputs": [],
   "source": [
    "def run_sim(d: Data, sim_name: str, start: int, end: int, init_bal: int, init_trade_size: int, grid_pips: int, \n",
    "            sl_grid_count: int, stop_loss: str, margin_sl_percent: float, sizing: str) -> pd.DataFrame:\n",
    "    tp_pips = grid_pips\n",
    "    sl_pips = grid_pips * sl_grid_count\n",
    "    sizing_ratio = init_trade_size / init_bal\n",
    "    \n",
    "    add_cols = dict(\n",
    "        open_longs=object,\n",
    "        open_shorts=object,\n",
    "        closed_longs=object,\n",
    "        closed_shorts=object,\n",
    "        trade_type=int, # (1 = ENTRY or TP, 0 = SL (ENTRY & TP can also happen when SL is triggered but SL indicator is set))\n",
    "        cum_long_position=int,\n",
    "        cum_short_position=int,\n",
    "        unrealised_pnl=float,\n",
    "        realised_pnl=float,\n",
    "        ac_bal=float,\n",
    "        margin_used=float,\n",
    "        margin_closeout=float\n",
    "    )\n",
    "    d.prepare_fast_data(name=sim_name, start=start, end=end, add_cols=add_cols)\n",
    "\n",
    "    for i in tqdm(range(d.fdatalen), desc=\" Simulating... \"):       \n",
    "        # First candle\n",
    "        if i == 0:\n",
    "            # Open new trades\n",
    "            trade_no = 1            \n",
    "            next_up_grid, next_down_grid = open_trades(d=d, \n",
    "                                                       i=i, \n",
    "                                                       tp_pips=tp_pips,\n",
    "                                                       sl_pips=sl_pips, \n",
    "                                                       init_trade_size=init_trade_size, \n",
    "                                                       sizing=sizing,\n",
    "                                                       sizing_ratio=sizing_ratio,\n",
    "                                                       trade_no=trade_no)\n",
    "            calc_ac_values(d, i, init_bal)\n",
    "        # Subsequent candles\n",
    "        else:\n",
    "            # Open new trades\n",
    "            if d.fdata('mid_c', i) >= next_up_grid or d.fdata('mid_c', i) <= next_down_grid:\n",
    "                trade_no = trade_no + 1            \n",
    "                next_up_grid, next_down_grid = open_trades(d=d, \n",
    "                                                           i=i, \n",
    "                                                           tp_pips=tp_pips, \n",
    "                                                           sl_pips=sl_pips, \n",
    "                                                           init_trade_size=init_trade_size, \n",
    "                                                           sizing=sizing,\n",
    "                                                           sizing_ratio=sizing_ratio,\n",
    "                                                           trade_no=trade_no)\n",
    "            else: # Cascade open positions from prev candle to current candle\n",
    "                d.update_fdata('open_longs', i, d.fdata('open_longs', i-1).copy())\n",
    "                d.update_fdata('open_shorts', i, d.fdata('open_shorts', i-1).copy())\n",
    "                \n",
    "            # Close long positions take profit\n",
    "            open_longs = d.fdata('open_longs', i).copy()\n",
    "            for trade_no, trade in open_longs.items():\n",
    "                if d.fdata('mid_c', i) >= trade[TP]:\n",
    "                    close_long(d, i, trade_no)\n",
    "\n",
    "            # Close short positions take profit\n",
    "            open_shorts = d.fdata('open_shorts', i).copy()\n",
    "            for trade_no, trade in open_shorts.items():\n",
    "                if d.fdata('mid_c', i) <= trade[TP]:\n",
    "                    close_short(d, i, trade_no)\n",
    "\n",
    "            # Stop loss for grid_count\n",
    "            if stop_loss == 'grid_count':\n",
    "                open_longs = d.fdata('open_longs', i).copy()\n",
    "                for trade_no, trade in open_longs.items():\n",
    "                    if d.fdata('mid_c', i) <= trade[SL]:\n",
    "                        close_long(d, i, trade_no, sl=True)\n",
    "\n",
    "                open_shorts = d.fdata('open_shorts', i).copy()\n",
    "                for trade_no, trade in open_shorts.items():\n",
    "                    if d.fdata('mid_c', i) >= trade[SL]:\n",
    "                        close_short(d, i, trade_no, sl=True)\n",
    "        \n",
    "            # Stop loss for margin closeout\n",
    "            if stop_loss == 'margin_closeout_oldest':\n",
    "                stop_loss_oldest(d, i, margin_sl_percent)\n",
    "            elif stop_loss == 'margin_closeout_farthest':\n",
    "                stop_loss_farthest(d, i, margin_sl_percent)\n",
    "            elif stop_loss == 'margin_closeout_oldest_1':\n",
    "                stop_loss_oldest_1(d, i, margin_sl_percent)\n",
    "            elif stop_loss == 'margin_closeout_farthest_1':\n",
    "                stop_loss_farthest_1(d, i, margin_sl_percent)\n",
    "\n",
    "            calc_ac_values(d, i)\n",
    "\n",
    "    result = d.df[sim_name].copy()\n",
    "    result = result[(result['trade_type'] == 1) | (result['trade_type'] == 0)]\n",
    "    del d.df[sim_name]\n",
    "\n",
    "    return dict(\n",
    "        sim_name = sim_name,\n",
    "        init_trade_size=init_trade_size,\n",
    "        grid_pips=grid_pips,\n",
    "        sl_grid_count=sl_grid_count,\n",
    "        stop_loss=stop_loss,\n",
    "        margin_sl_percent=margin_sl_percent,\n",
    "        sizing=sizing,\n",
    "        result = result\n",
    "    )"
   ]
  },
  {
   "cell_type": "code",
   "execution_count": 21,
   "metadata": {},
   "outputs": [],
   "source": [
    "def process_sim(d: Data, ticker: str, frequency: str, counter: int, start: int, end:int, init_bal: int, init_trade_size: int, grid_pips: int, sl_grid_count: int, \n",
    "                stop_loss: str, margin_sl_percent: float, sizing: str, inputs_list: list, inputs_file: str):\n",
    "    sim_name = f'{ticker}-{frequency}-{counter}'\n",
    "    header = ['sim_name', 'init_trade_size', 'grid_pips', 'stop_loss', 'sl_grid_count', 'stoploss_pips', 'margin_sl_percent', 'sizing']\n",
    "    inputs = [sim_name, init_trade_size, grid_pips, stop_loss, sl_grid_count, grid_pips * sl_grid_count, margin_sl_percent, sizing]\n",
    "    print(tabulate([inputs], header, tablefmt='plain'))\n",
    "    result= run_sim(\n",
    "        d=d,\n",
    "        sim_name=sim_name,\n",
    "        start=start,\n",
    "        end=end,\n",
    "        init_bal=init_bal,\n",
    "        init_trade_size=init_trade_size,\n",
    "        grid_pips=grid_pips,\n",
    "        sl_grid_count=sl_grid_count,\n",
    "        stop_loss=stop_loss,\n",
    "        margin_sl_percent=margin_sl_percent,\n",
    "        sizing=sizing\n",
    "    )\n",
    "    # print('Saving files...')\n",
    "    # with open(f'D:/Trading/ml4t-data/grid/{sim_name}.pkl', 'wb') as file:\n",
    "    #     pkl.dump(result, file)\n",
    "    result['result'].to_csv(f'D:/Trading/ml4t-data/grid/{sim_name}.csv', index=False)\n",
    "\n",
    "    inputs_list.append(inputs)\n",
    "    inputs_df = pd.DataFrame(inputs_list, columns=header)\n",
    "    # inputs_df.to_pickle(f'D:/Trading/ml4t-data/grid/{ticker}-{frequency}-' + inputs_file)\n",
    "    inputs_df.to_csv(f'D:/Trading/ml4t-data/grid/{ticker}-{frequency}-' + inputs_file, index=False)\n",
    "    \n",
    "    # del d.df[sim_name]\n",
    "    counter =  counter + 1\n",
    "    return inputs"
   ]
  },
  {
   "cell_type": "code",
   "execution_count": 22,
   "metadata": {},
   "outputs": [],
   "source": [
    "# tickers = ['EUR_USD']\n",
    "# frequency = ['M5']\n",
    "# init_bal = [500, 1000, 2000]\n",
    "# trade_size = [10, 100, 1000]\n",
    "# grid_pips = [10, 20, 30, 40, 50, 60, 100]\n",
    "# stop_loss = ['grid_count', 'margin_closeout_oldest', 'margin_closeout_farthest', 'margin_closeout_oldest_1', 'margin_closeout_farthest_1']\n",
    "# sl_grid_count = [5, 10, 15, 20, 30, 50, 100, 10000]\n",
    "# margin_sl_percent = [0.90, 0.80, 0.70, 0.60]\n",
    "# sizing = ['static', 'dynamic']\n",
    "# INPUTS_FILE = 'inputs.pkl'"
   ]
  },
  {
   "cell_type": "code",
   "execution_count": 23,
   "metadata": {},
   "outputs": [],
   "source": [
    "checkpoint = 1\n",
    "counter = 2001\n",
    "start = None\n",
    "end = None\n",
    "tickers = ['EUR_USD']\n",
    "frequency = ['M5']\n",
    "init_bal = [1000]\n",
    "init_trade_size = [1000]\n",
    "grid_pips = [10, 20, 30, 40, 50, 100]\n",
    "sl_grid_count = [5, 10, 15, 20, 30, 50, 100, 10000]\n",
    "stop_loss = ['margin_closeout_oldest', 'margin_closeout_farthest'] # , 'margin_closeout_oldest_1', 'margin_closeout_farthest_1']\n",
    "margin_sl_percent = [0.90, 0.80, 0.70]\n",
    "sizing = ['dynamic', 'static']\n",
    "INPUTS_FILE = 'inputs.2.csv'"
   ]
  },
  {
   "cell_type": "code",
   "execution_count": 24,
   "metadata": {},
   "outputs": [],
   "source": [
    "# checkpoint = 1\n",
    "# counter = 1001\n",
    "# start = None\n",
    "# end = None\n",
    "# tickers = ['EUR_USD']\n",
    "# frequency = ['M1']\n",
    "# init_bal = [1000]\n",
    "# init_trade_size = [1000]\n",
    "# grid_pips = [10]\n",
    "# sl_grid_count = [5]\n",
    "# stop_loss = ['grid_count']\n",
    "# margin_sl_percent = [0.90]\n",
    "# sizing = ['dynamic']\n",
    "# INPUTS_FILE = 'inputs.1049.csv'"
   ]
  },
  {
   "cell_type": "code",
   "execution_count": 25,
   "metadata": {},
   "outputs": [
    {
     "name": "stdout",
     "output_type": "stream",
     "text": [
      "sim_name           init_trade_size    grid_pips  stop_loss                 sl_grid_count    stoploss_pips    margin_sl_percent  sizing\n",
      "EUR_USD-M5-2001               1000           10  margin_closeout_oldest                5               50                  0.9  dynamic\n"
     ]
    },
    {
     "name": "stderr",
     "output_type": "stream",
     "text": [
      " Simulating... : 100%|██████████| 594303/594303 [04:15<00:00, 2327.94it/s]\n"
     ]
    },
    {
     "name": "stdout",
     "output_type": "stream",
     "text": [
      "sim_name           init_trade_size    grid_pips  stop_loss                 sl_grid_count    stoploss_pips    margin_sl_percent  sizing\n",
      "EUR_USD-M5-2002               1000           10  margin_closeout_oldest                5               50                  0.8  dynamic\n"
     ]
    },
    {
     "name": "stderr",
     "output_type": "stream",
     "text": [
      " Simulating... : 100%|██████████| 594303/594303 [05:24<00:00, 1832.04it/s]\n"
     ]
    },
    {
     "name": "stdout",
     "output_type": "stream",
     "text": [
      "sim_name           init_trade_size    grid_pips  stop_loss                 sl_grid_count    stoploss_pips    margin_sl_percent  sizing\n",
      "EUR_USD-M5-2003               1000           10  margin_closeout_oldest                5               50                  0.7  dynamic\n"
     ]
    },
    {
     "name": "stderr",
     "output_type": "stream",
     "text": [
      " Simulating... : 100%|██████████| 594303/594303 [06:09<00:00, 1609.15it/s]\n"
     ]
    },
    {
     "name": "stdout",
     "output_type": "stream",
     "text": [
      "sim_name           init_trade_size    grid_pips  stop_loss                   sl_grid_count    stoploss_pips    margin_sl_percent  sizing\n",
      "EUR_USD-M5-2004               1000           10  margin_closeout_farthest                5               50                  0.9  dynamic\n"
     ]
    },
    {
     "name": "stderr",
     "output_type": "stream",
     "text": [
      " Simulating... : 100%|██████████| 594303/594303 [04:18<00:00, 2300.23it/s]\n"
     ]
    },
    {
     "name": "stdout",
     "output_type": "stream",
     "text": [
      "sim_name           init_trade_size    grid_pips  stop_loss                   sl_grid_count    stoploss_pips    margin_sl_percent  sizing\n",
      "EUR_USD-M5-2005               1000           10  margin_closeout_farthest                5               50                  0.8  dynamic\n"
     ]
    },
    {
     "name": "stderr",
     "output_type": "stream",
     "text": [
      " Simulating... : 100%|██████████| 594303/594303 [04:32<00:00, 2178.62it/s]\n"
     ]
    },
    {
     "name": "stdout",
     "output_type": "stream",
     "text": [
      "sim_name           init_trade_size    grid_pips  stop_loss                   sl_grid_count    stoploss_pips    margin_sl_percent  sizing\n",
      "EUR_USD-M5-2006               1000           10  margin_closeout_farthest                5               50                  0.7  dynamic\n"
     ]
    },
    {
     "name": "stderr",
     "output_type": "stream",
     "text": [
      " Simulating... : 100%|██████████| 594303/594303 [06:11<00:00, 1599.77it/s]\n"
     ]
    },
    {
     "name": "stdout",
     "output_type": "stream",
     "text": [
      "sim_name           init_trade_size    grid_pips  stop_loss                 sl_grid_count    stoploss_pips    margin_sl_percent  sizing\n",
      "EUR_USD-M5-2007               1000           20  margin_closeout_oldest                5              100                  0.9  dynamic\n"
     ]
    },
    {
     "name": "stderr",
     "output_type": "stream",
     "text": [
      " Simulating... : 100%|██████████| 594303/594303 [02:39<00:00, 3730.36it/s]\n"
     ]
    },
    {
     "name": "stdout",
     "output_type": "stream",
     "text": [
      "sim_name           init_trade_size    grid_pips  stop_loss                 sl_grid_count    stoploss_pips    margin_sl_percent  sizing\n",
      "EUR_USD-M5-2008               1000           20  margin_closeout_oldest                5              100                  0.8  dynamic\n"
     ]
    },
    {
     "name": "stderr",
     "output_type": "stream",
     "text": [
      " Simulating... : 100%|██████████| 594303/594303 [02:46<00:00, 3579.97it/s]\n"
     ]
    },
    {
     "name": "stdout",
     "output_type": "stream",
     "text": [
      "sim_name           init_trade_size    grid_pips  stop_loss                 sl_grid_count    stoploss_pips    margin_sl_percent  sizing\n",
      "EUR_USD-M5-2009               1000           20  margin_closeout_oldest                5              100                  0.7  dynamic\n"
     ]
    },
    {
     "name": "stderr",
     "output_type": "stream",
     "text": [
      " Simulating... : 100%|██████████| 594303/594303 [03:42<00:00, 2667.50it/s]\n"
     ]
    },
    {
     "name": "stdout",
     "output_type": "stream",
     "text": [
      "sim_name           init_trade_size    grid_pips  stop_loss                   sl_grid_count    stoploss_pips    margin_sl_percent  sizing\n",
      "EUR_USD-M5-2010               1000           20  margin_closeout_farthest                5              100                  0.9  dynamic\n"
     ]
    },
    {
     "name": "stderr",
     "output_type": "stream",
     "text": [
      " Simulating... : 100%|██████████| 594303/594303 [02:40<00:00, 3702.41it/s]\n"
     ]
    },
    {
     "name": "stdout",
     "output_type": "stream",
     "text": [
      "sim_name           init_trade_size    grid_pips  stop_loss                   sl_grid_count    stoploss_pips    margin_sl_percent  sizing\n",
      "EUR_USD-M5-2011               1000           20  margin_closeout_farthest                5              100                  0.8  dynamic\n"
     ]
    },
    {
     "name": "stderr",
     "output_type": "stream",
     "text": [
      " Simulating... : 100%|██████████| 594303/594303 [02:47<00:00, 3550.55it/s]\n"
     ]
    },
    {
     "name": "stdout",
     "output_type": "stream",
     "text": [
      "sim_name           init_trade_size    grid_pips  stop_loss                   sl_grid_count    stoploss_pips    margin_sl_percent  sizing\n",
      "EUR_USD-M5-2012               1000           20  margin_closeout_farthest                5              100                  0.7  dynamic\n"
     ]
    },
    {
     "name": "stderr",
     "output_type": "stream",
     "text": [
      " Simulating... : 100%|██████████| 594303/594303 [03:37<00:00, 2728.31it/s]\n"
     ]
    },
    {
     "name": "stdout",
     "output_type": "stream",
     "text": [
      "sim_name           init_trade_size    grid_pips  stop_loss                 sl_grid_count    stoploss_pips    margin_sl_percent  sizing\n",
      "EUR_USD-M5-2013               1000           30  margin_closeout_oldest                5              150                  0.9  dynamic\n"
     ]
    },
    {
     "name": "stderr",
     "output_type": "stream",
     "text": [
      " Simulating... : 100%|██████████| 594303/594303 [02:31<00:00, 3918.36it/s]\n"
     ]
    },
    {
     "name": "stdout",
     "output_type": "stream",
     "text": [
      "sim_name           init_trade_size    grid_pips  stop_loss                 sl_grid_count    stoploss_pips    margin_sl_percent  sizing\n",
      "EUR_USD-M5-2014               1000           30  margin_closeout_oldest                5              150                  0.8  dynamic\n"
     ]
    },
    {
     "name": "stderr",
     "output_type": "stream",
     "text": [
      " Simulating... : 100%|██████████| 594303/594303 [02:36<00:00, 3793.22it/s]\n"
     ]
    },
    {
     "name": "stdout",
     "output_type": "stream",
     "text": [
      "sim_name           init_trade_size    grid_pips  stop_loss                 sl_grid_count    stoploss_pips    margin_sl_percent  sizing\n",
      "EUR_USD-M5-2015               1000           30  margin_closeout_oldest                5              150                  0.7  dynamic\n"
     ]
    },
    {
     "name": "stderr",
     "output_type": "stream",
     "text": [
      " Simulating... : 100%|██████████| 594303/594303 [02:51<00:00, 3456.83it/s]\n"
     ]
    },
    {
     "name": "stdout",
     "output_type": "stream",
     "text": [
      "sim_name           init_trade_size    grid_pips  stop_loss                   sl_grid_count    stoploss_pips    margin_sl_percent  sizing\n",
      "EUR_USD-M5-2016               1000           30  margin_closeout_farthest                5              150                  0.9  dynamic\n"
     ]
    },
    {
     "name": "stderr",
     "output_type": "stream",
     "text": [
      " Simulating... : 100%|██████████| 594303/594303 [02:33<00:00, 3877.06it/s]\n"
     ]
    },
    {
     "name": "stdout",
     "output_type": "stream",
     "text": [
      "sim_name           init_trade_size    grid_pips  stop_loss                   sl_grid_count    stoploss_pips    margin_sl_percent  sizing\n",
      "EUR_USD-M5-2017               1000           30  margin_closeout_farthest                5              150                  0.8  dynamic\n"
     ]
    },
    {
     "name": "stderr",
     "output_type": "stream",
     "text": [
      " Simulating... : 100%|██████████| 594303/594303 [02:37<00:00, 3762.31it/s]\n"
     ]
    },
    {
     "name": "stdout",
     "output_type": "stream",
     "text": [
      "sim_name           init_trade_size    grid_pips  stop_loss                   sl_grid_count    stoploss_pips    margin_sl_percent  sizing\n",
      "EUR_USD-M5-2018               1000           30  margin_closeout_farthest                5              150                  0.7  dynamic\n"
     ]
    },
    {
     "name": "stderr",
     "output_type": "stream",
     "text": [
      " Simulating... : 100%|██████████| 594303/594303 [02:50<00:00, 3488.84it/s]\n"
     ]
    },
    {
     "name": "stdout",
     "output_type": "stream",
     "text": [
      "sim_name           init_trade_size    grid_pips  stop_loss                 sl_grid_count    stoploss_pips    margin_sl_percent  sizing\n",
      "EUR_USD-M5-2019               1000           40  margin_closeout_oldest                5              200                  0.9  dynamic\n"
     ]
    },
    {
     "name": "stderr",
     "output_type": "stream",
     "text": [
      " Simulating... : 100%|██████████| 594303/594303 [02:27<00:00, 4025.41it/s]\n"
     ]
    },
    {
     "name": "stdout",
     "output_type": "stream",
     "text": [
      "sim_name           init_trade_size    grid_pips  stop_loss                 sl_grid_count    stoploss_pips    margin_sl_percent  sizing\n",
      "EUR_USD-M5-2020               1000           40  margin_closeout_oldest                5              200                  0.8  dynamic\n"
     ]
    },
    {
     "name": "stderr",
     "output_type": "stream",
     "text": [
      " Simulating... : 100%|██████████| 594303/594303 [02:30<00:00, 3955.22it/s]\n"
     ]
    },
    {
     "name": "stdout",
     "output_type": "stream",
     "text": [
      "sim_name           init_trade_size    grid_pips  stop_loss                 sl_grid_count    stoploss_pips    margin_sl_percent  sizing\n",
      "EUR_USD-M5-2021               1000           40  margin_closeout_oldest                5              200                  0.7  dynamic\n"
     ]
    },
    {
     "name": "stderr",
     "output_type": "stream",
     "text": [
      " Simulating... : 100%|██████████| 594303/594303 [02:44<00:00, 3622.20it/s]\n"
     ]
    },
    {
     "name": "stdout",
     "output_type": "stream",
     "text": [
      "sim_name           init_trade_size    grid_pips  stop_loss                   sl_grid_count    stoploss_pips    margin_sl_percent  sizing\n",
      "EUR_USD-M5-2022               1000           40  margin_closeout_farthest                5              200                  0.9  dynamic\n"
     ]
    },
    {
     "name": "stderr",
     "output_type": "stream",
     "text": [
      " Simulating... : 100%|██████████| 594303/594303 [02:25<00:00, 4090.29it/s]\n"
     ]
    },
    {
     "name": "stdout",
     "output_type": "stream",
     "text": [
      "sim_name           init_trade_size    grid_pips  stop_loss                   sl_grid_count    stoploss_pips    margin_sl_percent  sizing\n",
      "EUR_USD-M5-2023               1000           40  margin_closeout_farthest                5              200                  0.8  dynamic\n"
     ]
    },
    {
     "name": "stderr",
     "output_type": "stream",
     "text": [
      " Simulating... : 100%|██████████| 594303/594303 [02:35<00:00, 3827.97it/s]\n"
     ]
    },
    {
     "name": "stdout",
     "output_type": "stream",
     "text": [
      "sim_name           init_trade_size    grid_pips  stop_loss                   sl_grid_count    stoploss_pips    margin_sl_percent  sizing\n",
      "EUR_USD-M5-2024               1000           40  margin_closeout_farthest                5              200                  0.7  dynamic\n"
     ]
    },
    {
     "name": "stderr",
     "output_type": "stream",
     "text": [
      " Simulating... : 100%|██████████| 594303/594303 [02:35<00:00, 3812.38it/s]\n"
     ]
    },
    {
     "name": "stdout",
     "output_type": "stream",
     "text": [
      "sim_name           init_trade_size    grid_pips  stop_loss                 sl_grid_count    stoploss_pips    margin_sl_percent  sizing\n",
      "EUR_USD-M5-2025               1000           50  margin_closeout_oldest                5              250                  0.9  dynamic\n"
     ]
    },
    {
     "name": "stderr",
     "output_type": "stream",
     "text": [
      " Simulating... : 100%|██████████| 594303/594303 [02:24<00:00, 4126.67it/s]\n"
     ]
    },
    {
     "name": "stdout",
     "output_type": "stream",
     "text": [
      "sim_name           init_trade_size    grid_pips  stop_loss                 sl_grid_count    stoploss_pips    margin_sl_percent  sizing\n",
      "EUR_USD-M5-2026               1000           50  margin_closeout_oldest                5              250                  0.8  dynamic\n"
     ]
    },
    {
     "name": "stderr",
     "output_type": "stream",
     "text": [
      " Simulating... : 100%|██████████| 594303/594303 [02:26<00:00, 4043.60it/s]\n"
     ]
    },
    {
     "name": "stdout",
     "output_type": "stream",
     "text": [
      "sim_name           init_trade_size    grid_pips  stop_loss                 sl_grid_count    stoploss_pips    margin_sl_percent  sizing\n",
      "EUR_USD-M5-2027               1000           50  margin_closeout_oldest                5              250                  0.7  dynamic\n"
     ]
    },
    {
     "name": "stderr",
     "output_type": "stream",
     "text": [
      " Simulating... : 100%|██████████| 594303/594303 [02:39<00:00, 3721.53it/s]\n"
     ]
    },
    {
     "name": "stdout",
     "output_type": "stream",
     "text": [
      "sim_name           init_trade_size    grid_pips  stop_loss                   sl_grid_count    stoploss_pips    margin_sl_percent  sizing\n",
      "EUR_USD-M5-2028               1000           50  margin_closeout_farthest                5              250                  0.9  dynamic\n"
     ]
    },
    {
     "name": "stderr",
     "output_type": "stream",
     "text": [
      " Simulating... : 100%|██████████| 594303/594303 [02:23<00:00, 4147.46it/s]\n"
     ]
    },
    {
     "name": "stdout",
     "output_type": "stream",
     "text": [
      "sim_name           init_trade_size    grid_pips  stop_loss                   sl_grid_count    stoploss_pips    margin_sl_percent  sizing\n",
      "EUR_USD-M5-2029               1000           50  margin_closeout_farthest                5              250                  0.8  dynamic\n"
     ]
    },
    {
     "name": "stderr",
     "output_type": "stream",
     "text": [
      " Simulating... : 100%|██████████| 594303/594303 [02:25<00:00, 4092.55it/s]\n"
     ]
    },
    {
     "name": "stdout",
     "output_type": "stream",
     "text": [
      "sim_name           init_trade_size    grid_pips  stop_loss                   sl_grid_count    stoploss_pips    margin_sl_percent  sizing\n",
      "EUR_USD-M5-2030               1000           50  margin_closeout_farthest                5              250                  0.7  dynamic\n"
     ]
    },
    {
     "name": "stderr",
     "output_type": "stream",
     "text": [
      " Simulating... : 100%|██████████| 594303/594303 [02:41<00:00, 3688.91it/s]\n"
     ]
    },
    {
     "name": "stdout",
     "output_type": "stream",
     "text": [
      "sim_name           init_trade_size    grid_pips  stop_loss                 sl_grid_count    stoploss_pips    margin_sl_percent  sizing\n",
      "EUR_USD-M5-2031               1000          100  margin_closeout_oldest                5              500                  0.9  dynamic\n"
     ]
    },
    {
     "name": "stderr",
     "output_type": "stream",
     "text": [
      " Simulating... : 100%|██████████| 594303/594303 [02:08<00:00, 4622.06it/s]\n"
     ]
    },
    {
     "name": "stdout",
     "output_type": "stream",
     "text": [
      "sim_name           init_trade_size    grid_pips  stop_loss                 sl_grid_count    stoploss_pips    margin_sl_percent  sizing\n",
      "EUR_USD-M5-2032               1000          100  margin_closeout_oldest                5              500                  0.8  dynamic\n"
     ]
    },
    {
     "name": "stderr",
     "output_type": "stream",
     "text": [
      " Simulating... : 100%|██████████| 594303/594303 [02:11<00:00, 4525.65it/s]\n"
     ]
    },
    {
     "name": "stdout",
     "output_type": "stream",
     "text": [
      "sim_name           init_trade_size    grid_pips  stop_loss                 sl_grid_count    stoploss_pips    margin_sl_percent  sizing\n",
      "EUR_USD-M5-2033               1000          100  margin_closeout_oldest                5              500                  0.7  dynamic\n"
     ]
    },
    {
     "name": "stderr",
     "output_type": "stream",
     "text": [
      " Simulating... : 100%|██████████| 594303/594303 [02:13<00:00, 4435.24it/s]\n"
     ]
    },
    {
     "name": "stdout",
     "output_type": "stream",
     "text": [
      "sim_name           init_trade_size    grid_pips  stop_loss                   sl_grid_count    stoploss_pips    margin_sl_percent  sizing\n",
      "EUR_USD-M5-2034               1000          100  margin_closeout_farthest                5              500                  0.9  dynamic\n"
     ]
    },
    {
     "name": "stderr",
     "output_type": "stream",
     "text": [
      " Simulating... : 100%|██████████| 594303/594303 [02:05<00:00, 4750.23it/s]\n"
     ]
    },
    {
     "name": "stdout",
     "output_type": "stream",
     "text": [
      "sim_name           init_trade_size    grid_pips  stop_loss                   sl_grid_count    stoploss_pips    margin_sl_percent  sizing\n",
      "EUR_USD-M5-2035               1000          100  margin_closeout_farthest                5              500                  0.8  dynamic\n"
     ]
    },
    {
     "name": "stderr",
     "output_type": "stream",
     "text": [
      " Simulating... : 100%|██████████| 594303/594303 [02:13<00:00, 4457.76it/s]\n"
     ]
    },
    {
     "name": "stdout",
     "output_type": "stream",
     "text": [
      "sim_name           init_trade_size    grid_pips  stop_loss                   sl_grid_count    stoploss_pips    margin_sl_percent  sizing\n",
      "EUR_USD-M5-2036               1000          100  margin_closeout_farthest                5              500                  0.7  dynamic\n"
     ]
    },
    {
     "name": "stderr",
     "output_type": "stream",
     "text": [
      " Simulating... : 100%|██████████| 594303/594303 [02:15<00:00, 4390.94it/s]\n"
     ]
    },
    {
     "name": "stdout",
     "output_type": "stream",
     "text": [
      "sim_name           init_trade_size    grid_pips  stop_loss                 sl_grid_count    stoploss_pips    margin_sl_percent  sizing\n",
      "EUR_USD-M5-2037               1000           10  margin_closeout_oldest                5               50                  0.9  static\n"
     ]
    },
    {
     "name": "stderr",
     "output_type": "stream",
     "text": [
      " Simulating... : 100%|██████████| 594303/594303 [02:05<00:00, 4736.60it/s]\n"
     ]
    },
    {
     "name": "stdout",
     "output_type": "stream",
     "text": [
      "sim_name           init_trade_size    grid_pips  stop_loss                 sl_grid_count    stoploss_pips    margin_sl_percent  sizing\n",
      "EUR_USD-M5-2038               1000           10  margin_closeout_oldest                5               50                  0.8  static\n"
     ]
    },
    {
     "name": "stderr",
     "output_type": "stream",
     "text": [
      " Simulating... : 100%|██████████| 594303/594303 [02:00<00:00, 4937.30it/s]\n"
     ]
    },
    {
     "name": "stdout",
     "output_type": "stream",
     "text": [
      "sim_name           init_trade_size    grid_pips  stop_loss                 sl_grid_count    stoploss_pips    margin_sl_percent  sizing\n",
      "EUR_USD-M5-2039               1000           10  margin_closeout_oldest                5               50                  0.7  static\n"
     ]
    },
    {
     "name": "stderr",
     "output_type": "stream",
     "text": [
      " Simulating... : 100%|██████████| 594303/594303 [01:45<00:00, 5614.45it/s]\n"
     ]
    },
    {
     "name": "stdout",
     "output_type": "stream",
     "text": [
      "sim_name           init_trade_size    grid_pips  stop_loss                   sl_grid_count    stoploss_pips    margin_sl_percent  sizing\n",
      "EUR_USD-M5-2040               1000           10  margin_closeout_farthest                5               50                  0.9  static\n"
     ]
    },
    {
     "name": "stderr",
     "output_type": "stream",
     "text": [
      " Simulating... : 100%|██████████| 594303/594303 [01:42<00:00, 5812.17it/s]\n"
     ]
    },
    {
     "name": "stdout",
     "output_type": "stream",
     "text": [
      "sim_name           init_trade_size    grid_pips  stop_loss                   sl_grid_count    stoploss_pips    margin_sl_percent  sizing\n",
      "EUR_USD-M5-2041               1000           10  margin_closeout_farthest                5               50                  0.8  static\n"
     ]
    },
    {
     "name": "stderr",
     "output_type": "stream",
     "text": [
      " Simulating... : 100%|██████████| 594303/594303 [01:41<00:00, 5841.93it/s]\n"
     ]
    },
    {
     "name": "stdout",
     "output_type": "stream",
     "text": [
      "sim_name           init_trade_size    grid_pips  stop_loss                   sl_grid_count    stoploss_pips    margin_sl_percent  sizing\n",
      "EUR_USD-M5-2042               1000           10  margin_closeout_farthest                5               50                  0.7  static\n"
     ]
    },
    {
     "name": "stderr",
     "output_type": "stream",
     "text": [
      " Simulating... : 100%|██████████| 594303/594303 [01:41<00:00, 5840.42it/s]\n"
     ]
    },
    {
     "name": "stdout",
     "output_type": "stream",
     "text": [
      "sim_name           init_trade_size    grid_pips  stop_loss                 sl_grid_count    stoploss_pips    margin_sl_percent  sizing\n",
      "EUR_USD-M5-2043               1000           20  margin_closeout_oldest                5              100                  0.9  static\n"
     ]
    },
    {
     "name": "stderr",
     "output_type": "stream",
     "text": [
      " Simulating... : 100%|██████████| 594303/594303 [01:41<00:00, 5870.65it/s]\n"
     ]
    },
    {
     "name": "stdout",
     "output_type": "stream",
     "text": [
      "sim_name           init_trade_size    grid_pips  stop_loss                 sl_grid_count    stoploss_pips    margin_sl_percent  sizing\n",
      "EUR_USD-M5-2044               1000           20  margin_closeout_oldest                5              100                  0.8  static\n"
     ]
    },
    {
     "name": "stderr",
     "output_type": "stream",
     "text": [
      " Simulating... : 100%|██████████| 594303/594303 [01:42<00:00, 5808.68it/s]\n"
     ]
    },
    {
     "name": "stdout",
     "output_type": "stream",
     "text": [
      "sim_name           init_trade_size    grid_pips  stop_loss                 sl_grid_count    stoploss_pips    margin_sl_percent  sizing\n",
      "EUR_USD-M5-2045               1000           20  margin_closeout_oldest                5              100                  0.7  static\n"
     ]
    },
    {
     "name": "stderr",
     "output_type": "stream",
     "text": [
      " Simulating... : 100%|██████████| 594303/594303 [01:34<00:00, 6281.44it/s]\n"
     ]
    },
    {
     "name": "stdout",
     "output_type": "stream",
     "text": [
      "sim_name           init_trade_size    grid_pips  stop_loss                   sl_grid_count    stoploss_pips    margin_sl_percent  sizing\n",
      "EUR_USD-M5-2046               1000           20  margin_closeout_farthest                5              100                  0.9  static\n"
     ]
    },
    {
     "name": "stderr",
     "output_type": "stream",
     "text": [
      " Simulating... : 100%|██████████| 594303/594303 [01:44<00:00, 5686.15it/s]\n"
     ]
    },
    {
     "name": "stdout",
     "output_type": "stream",
     "text": [
      "sim_name           init_trade_size    grid_pips  stop_loss                   sl_grid_count    stoploss_pips    margin_sl_percent  sizing\n",
      "EUR_USD-M5-2047               1000           20  margin_closeout_farthest                5              100                  0.8  static\n"
     ]
    },
    {
     "name": "stderr",
     "output_type": "stream",
     "text": [
      " Simulating... : 100%|██████████| 594303/594303 [01:41<00:00, 5839.31it/s]\n"
     ]
    },
    {
     "name": "stdout",
     "output_type": "stream",
     "text": [
      "sim_name           init_trade_size    grid_pips  stop_loss                   sl_grid_count    stoploss_pips    margin_sl_percent  sizing\n",
      "EUR_USD-M5-2048               1000           20  margin_closeout_farthest                5              100                  0.7  static\n"
     ]
    },
    {
     "name": "stderr",
     "output_type": "stream",
     "text": [
      " Simulating... : 100%|██████████| 594303/594303 [01:32<00:00, 6410.26it/s]\n"
     ]
    },
    {
     "name": "stdout",
     "output_type": "stream",
     "text": [
      "sim_name           init_trade_size    grid_pips  stop_loss                 sl_grid_count    stoploss_pips    margin_sl_percent  sizing\n",
      "EUR_USD-M5-2049               1000           30  margin_closeout_oldest                5              150                  0.9  static\n"
     ]
    },
    {
     "name": "stderr",
     "output_type": "stream",
     "text": [
      " Simulating... : 100%|██████████| 594303/594303 [01:40<00:00, 5939.31it/s]\n"
     ]
    },
    {
     "name": "stdout",
     "output_type": "stream",
     "text": [
      "sim_name           init_trade_size    grid_pips  stop_loss                 sl_grid_count    stoploss_pips    margin_sl_percent  sizing\n",
      "EUR_USD-M5-2050               1000           30  margin_closeout_oldest                5              150                  0.8  static\n"
     ]
    },
    {
     "name": "stderr",
     "output_type": "stream",
     "text": [
      " Simulating... : 100%|██████████| 594303/594303 [01:29<00:00, 6666.55it/s]\n"
     ]
    },
    {
     "name": "stdout",
     "output_type": "stream",
     "text": [
      "sim_name           init_trade_size    grid_pips  stop_loss                 sl_grid_count    stoploss_pips    margin_sl_percent  sizing\n",
      "EUR_USD-M5-2051               1000           30  margin_closeout_oldest                5              150                  0.7  static\n"
     ]
    },
    {
     "name": "stderr",
     "output_type": "stream",
     "text": [
      " Simulating... : 100%|██████████| 594303/594303 [01:48<00:00, 5496.72it/s]\n"
     ]
    },
    {
     "name": "stdout",
     "output_type": "stream",
     "text": [
      "sim_name           init_trade_size    grid_pips  stop_loss                   sl_grid_count    stoploss_pips    margin_sl_percent  sizing\n",
      "EUR_USD-M5-2052               1000           30  margin_closeout_farthest                5              150                  0.9  static\n"
     ]
    },
    {
     "name": "stderr",
     "output_type": "stream",
     "text": [
      " Simulating... : 100%|██████████| 594303/594303 [01:49<00:00, 5411.51it/s]\n"
     ]
    },
    {
     "name": "stdout",
     "output_type": "stream",
     "text": [
      "sim_name           init_trade_size    grid_pips  stop_loss                   sl_grid_count    stoploss_pips    margin_sl_percent  sizing\n",
      "EUR_USD-M5-2053               1000           30  margin_closeout_farthest                5              150                  0.8  static\n"
     ]
    },
    {
     "name": "stderr",
     "output_type": "stream",
     "text": [
      " Simulating... : 100%|██████████| 594303/594303 [01:48<00:00, 5492.19it/s] \n"
     ]
    },
    {
     "name": "stdout",
     "output_type": "stream",
     "text": [
      "sim_name           init_trade_size    grid_pips  stop_loss                   sl_grid_count    stoploss_pips    margin_sl_percent  sizing\n",
      "EUR_USD-M5-2054               1000           30  margin_closeout_farthest                5              150                  0.7  static\n"
     ]
    },
    {
     "name": "stderr",
     "output_type": "stream",
     "text": [
      " Simulating... : 100%|██████████| 594303/594303 [02:02<00:00, 4837.60it/s]\n"
     ]
    },
    {
     "name": "stdout",
     "output_type": "stream",
     "text": [
      "sim_name           init_trade_size    grid_pips  stop_loss                 sl_grid_count    stoploss_pips    margin_sl_percent  sizing\n",
      "EUR_USD-M5-2055               1000           40  margin_closeout_oldest                5              200                  0.9  static\n"
     ]
    },
    {
     "name": "stderr",
     "output_type": "stream",
     "text": [
      " Simulating... : 100%|██████████| 594303/594303 [02:51<00:00, 3458.59it/s]\n"
     ]
    },
    {
     "name": "stdout",
     "output_type": "stream",
     "text": [
      "sim_name           init_trade_size    grid_pips  stop_loss                 sl_grid_count    stoploss_pips    margin_sl_percent  sizing\n",
      "EUR_USD-M5-2056               1000           40  margin_closeout_oldest                5              200                  0.8  static\n"
     ]
    },
    {
     "name": "stderr",
     "output_type": "stream",
     "text": [
      " Simulating... : 100%|██████████| 594303/594303 [02:50<00:00, 3487.54it/s]\n"
     ]
    },
    {
     "name": "stdout",
     "output_type": "stream",
     "text": [
      "sim_name           init_trade_size    grid_pips  stop_loss                 sl_grid_count    stoploss_pips    margin_sl_percent  sizing\n",
      "EUR_USD-M5-2057               1000           40  margin_closeout_oldest                5              200                  0.7  static\n"
     ]
    },
    {
     "name": "stderr",
     "output_type": "stream",
     "text": [
      " Simulating... : 100%|██████████| 594303/594303 [02:47<00:00, 3545.84it/s]\n"
     ]
    },
    {
     "name": "stdout",
     "output_type": "stream",
     "text": [
      "sim_name           init_trade_size    grid_pips  stop_loss                   sl_grid_count    stoploss_pips    margin_sl_percent  sizing\n",
      "EUR_USD-M5-2058               1000           40  margin_closeout_farthest                5              200                  0.9  static\n"
     ]
    },
    {
     "name": "stderr",
     "output_type": "stream",
     "text": [
      " Simulating... : 100%|██████████| 594303/594303 [02:50<00:00, 3486.26it/s]\n"
     ]
    },
    {
     "name": "stdout",
     "output_type": "stream",
     "text": [
      "sim_name           init_trade_size    grid_pips  stop_loss                   sl_grid_count    stoploss_pips    margin_sl_percent  sizing\n",
      "EUR_USD-M5-2059               1000           40  margin_closeout_farthest                5              200                  0.8  static\n"
     ]
    },
    {
     "name": "stderr",
     "output_type": "stream",
     "text": [
      " Simulating... : 100%|██████████| 594303/594303 [02:49<00:00, 3498.88it/s]\n"
     ]
    },
    {
     "name": "stdout",
     "output_type": "stream",
     "text": [
      "sim_name           init_trade_size    grid_pips  stop_loss                   sl_grid_count    stoploss_pips    margin_sl_percent  sizing\n",
      "EUR_USD-M5-2060               1000           40  margin_closeout_farthest                5              200                  0.7  static\n"
     ]
    },
    {
     "name": "stderr",
     "output_type": "stream",
     "text": [
      " Simulating... : 100%|██████████| 594303/594303 [02:44<00:00, 3604.69it/s]\n"
     ]
    },
    {
     "name": "stdout",
     "output_type": "stream",
     "text": [
      "sim_name           init_trade_size    grid_pips  stop_loss                 sl_grid_count    stoploss_pips    margin_sl_percent  sizing\n",
      "EUR_USD-M5-2061               1000           50  margin_closeout_oldest                5              250                  0.9  static\n"
     ]
    },
    {
     "name": "stderr",
     "output_type": "stream",
     "text": [
      " Simulating... : 100%|██████████| 594303/594303 [02:35<00:00, 3827.09it/s]\n"
     ]
    },
    {
     "name": "stdout",
     "output_type": "stream",
     "text": [
      "sim_name           init_trade_size    grid_pips  stop_loss                 sl_grid_count    stoploss_pips    margin_sl_percent  sizing\n",
      "EUR_USD-M5-2062               1000           50  margin_closeout_oldest                5              250                  0.8  static\n"
     ]
    },
    {
     "name": "stderr",
     "output_type": "stream",
     "text": [
      " Simulating... : 100%|██████████| 594303/594303 [02:36<00:00, 3797.47it/s]\n"
     ]
    },
    {
     "name": "stdout",
     "output_type": "stream",
     "text": [
      "sim_name           init_trade_size    grid_pips  stop_loss                 sl_grid_count    stoploss_pips    margin_sl_percent  sizing\n",
      "EUR_USD-M5-2063               1000           50  margin_closeout_oldest                5              250                  0.7  static\n"
     ]
    },
    {
     "name": "stderr",
     "output_type": "stream",
     "text": [
      " Simulating... : 100%|██████████| 594303/594303 [02:55<00:00, 3392.39it/s]\n"
     ]
    },
    {
     "name": "stdout",
     "output_type": "stream",
     "text": [
      "sim_name           init_trade_size    grid_pips  stop_loss                   sl_grid_count    stoploss_pips    margin_sl_percent  sizing\n",
      "EUR_USD-M5-2064               1000           50  margin_closeout_farthest                5              250                  0.9  static\n"
     ]
    },
    {
     "name": "stderr",
     "output_type": "stream",
     "text": [
      " Simulating... : 100%|██████████| 594303/594303 [02:30<00:00, 3945.34it/s]\n"
     ]
    },
    {
     "name": "stdout",
     "output_type": "stream",
     "text": [
      "sim_name           init_trade_size    grid_pips  stop_loss                   sl_grid_count    stoploss_pips    margin_sl_percent  sizing\n",
      "EUR_USD-M5-2065               1000           50  margin_closeout_farthest                5              250                  0.8  static\n"
     ]
    },
    {
     "name": "stderr",
     "output_type": "stream",
     "text": [
      " Simulating... : 100%|██████████| 594303/594303 [02:38<00:00, 3752.81it/s]\n"
     ]
    },
    {
     "name": "stdout",
     "output_type": "stream",
     "text": [
      "sim_name           init_trade_size    grid_pips  stop_loss                   sl_grid_count    stoploss_pips    margin_sl_percent  sizing\n",
      "EUR_USD-M5-2066               1000           50  margin_closeout_farthest                5              250                  0.7  static\n"
     ]
    },
    {
     "name": "stderr",
     "output_type": "stream",
     "text": [
      " Simulating... : 100%|██████████| 594303/594303 [02:33<00:00, 3883.85it/s]\n"
     ]
    },
    {
     "name": "stdout",
     "output_type": "stream",
     "text": [
      "sim_name           init_trade_size    grid_pips  stop_loss                 sl_grid_count    stoploss_pips    margin_sl_percent  sizing\n",
      "EUR_USD-M5-2067               1000          100  margin_closeout_oldest                5              500                  0.9  static\n"
     ]
    },
    {
     "name": "stderr",
     "output_type": "stream",
     "text": [
      " Simulating... : 100%|██████████| 594303/594303 [01:57<00:00, 5040.97it/s]\n"
     ]
    },
    {
     "name": "stdout",
     "output_type": "stream",
     "text": [
      "sim_name           init_trade_size    grid_pips  stop_loss                 sl_grid_count    stoploss_pips    margin_sl_percent  sizing\n",
      "EUR_USD-M5-2068               1000          100  margin_closeout_oldest                5              500                  0.8  static\n"
     ]
    },
    {
     "name": "stderr",
     "output_type": "stream",
     "text": [
      " Simulating... : 100%|██████████| 594303/594303 [01:55<00:00, 5152.15it/s]\n"
     ]
    },
    {
     "name": "stdout",
     "output_type": "stream",
     "text": [
      "sim_name           init_trade_size    grid_pips  stop_loss                 sl_grid_count    stoploss_pips    margin_sl_percent  sizing\n",
      "EUR_USD-M5-2069               1000          100  margin_closeout_oldest                5              500                  0.7  static\n"
     ]
    },
    {
     "name": "stderr",
     "output_type": "stream",
     "text": [
      " Simulating... : 100%|██████████| 594303/594303 [01:52<00:00, 5269.36it/s] \n"
     ]
    },
    {
     "name": "stdout",
     "output_type": "stream",
     "text": [
      "sim_name           init_trade_size    grid_pips  stop_loss                   sl_grid_count    stoploss_pips    margin_sl_percent  sizing\n",
      "EUR_USD-M5-2070               1000          100  margin_closeout_farthest                5              500                  0.9  static\n"
     ]
    },
    {
     "name": "stderr",
     "output_type": "stream",
     "text": [
      " Simulating... : 100%|██████████| 594303/594303 [01:57<00:00, 5038.63it/s]\n"
     ]
    },
    {
     "name": "stdout",
     "output_type": "stream",
     "text": [
      "sim_name           init_trade_size    grid_pips  stop_loss                   sl_grid_count    stoploss_pips    margin_sl_percent  sizing\n",
      "EUR_USD-M5-2071               1000          100  margin_closeout_farthest                5              500                  0.8  static\n"
     ]
    },
    {
     "name": "stderr",
     "output_type": "stream",
     "text": [
      " Simulating... : 100%|██████████| 594303/594303 [01:54<00:00, 5168.64it/s]\n"
     ]
    },
    {
     "name": "stdout",
     "output_type": "stream",
     "text": [
      "sim_name           init_trade_size    grid_pips  stop_loss                   sl_grid_count    stoploss_pips    margin_sl_percent  sizing\n",
      "EUR_USD-M5-2072               1000          100  margin_closeout_farthest                5              500                  0.7  static\n"
     ]
    },
    {
     "name": "stderr",
     "output_type": "stream",
     "text": [
      " Simulating... : 100%|██████████| 594303/594303 [01:54<00:00, 5206.24it/s]\n"
     ]
    }
   ],
   "source": [
    "inputs_list = list()\n",
    "for tk in tickers:\n",
    "    for f in frequency:\n",
    "        df = read_data(tk, f)\n",
    "        for ib in init_bal:\n",
    "            for t in init_trade_size:\n",
    "                for s in sizing:\n",
    "                    for g in grid_pips:\n",
    "                        for sl in stop_loss:\n",
    "                            if sl == 'grid_count':\n",
    "                                for slgc in sl_grid_count:\n",
    "                                    if counter >= checkpoint:\n",
    "                                        d = Data(df)\n",
    "                                        inputs = process_sim(\n",
    "                                            d=d,\n",
    "                                            ticker=tk,\n",
    "                                            frequency=f,\n",
    "                                            counter=counter,\n",
    "                                            start=start,\n",
    "                                            end=end,\n",
    "                                            init_bal=ib,\n",
    "                                            init_trade_size=t,\n",
    "                                            grid_pips=g,\n",
    "                                            sl_grid_count=slgc,\n",
    "                                            stop_loss=sl,\n",
    "                                            margin_sl_percent=None,\n",
    "                                            sizing=s,\n",
    "                                            inputs_list=inputs_list,\n",
    "                                            inputs_file=INPUTS_FILE\n",
    "                                        )  \n",
    "                                    counter =  counter + 1\n",
    "                            else:\n",
    "                                for mslp in margin_sl_percent:\n",
    "                                    if counter >= checkpoint:\n",
    "                                        d = Data(df)\n",
    "                                        inputs = process_sim(\n",
    "                                            d=d,\n",
    "                                            ticker=tk,\n",
    "                                            frequency=f,\n",
    "                                            counter=counter,\n",
    "                                            start=start,\n",
    "                                            end=end,\n",
    "                                            init_bal=ib,\n",
    "                                            init_trade_size=t,\n",
    "                                            grid_pips=g,\n",
    "                                            stop_loss=sl,\n",
    "                                            sl_grid_count=sl_grid_count[0],\n",
    "                                            margin_sl_percent=mslp,\n",
    "                                            sizing=s,\n",
    "                                            inputs_list=inputs_list,\n",
    "                                            inputs_file=INPUTS_FILE\n",
    "                                        )  \n",
    "                                    counter =  counter + 1"
   ]
  },
  {
   "cell_type": "code",
   "execution_count": 26,
   "metadata": {},
   "outputs": [
    {
     "ename": "SyntaxError",
     "evalue": "invalid syntax (4267763832.py, line 1)",
     "output_type": "error",
     "traceback": [
      "\u001b[1;36m  Cell \u001b[1;32mIn[26], line 1\u001b[1;36m\u001b[0m\n\u001b[1;33m    stop error\u001b[0m\n\u001b[1;37m         ^\u001b[0m\n\u001b[1;31mSyntaxError\u001b[0m\u001b[1;31m:\u001b[0m invalid syntax\n"
     ]
    }
   ],
   "source": [
    "stop error"
   ]
  },
  {
   "cell_type": "code",
   "execution_count": null,
   "metadata": {},
   "outputs": [],
   "source": [
    "i1 = pd.read_csv(f'D:/Trading/ml4t-data/grid/EUR_USD-M5-inputs.1.csv')\n",
    "i2 = pd.read_csv(f'D:/Trading/ml4t-data/grid/EUR_USD-M5-inputs.2.csv')\n",
    "i3 = pd.read_csv(f'D:/Trading/ml4t-data/grid/EUR_USD-M5-inputs.3.csv')\n",
    "inputs = pd.concat([i1, i2, i3])"
   ]
  },
  {
   "cell_type": "code",
   "execution_count": null,
   "metadata": {},
   "outputs": [],
   "source": [
    "# inputs = pd.read_csv(f'D:/Trading/ml4t-data/grid/EUR_USD-M5-inputs.1.csv')"
   ]
  },
  {
   "cell_type": "code",
   "execution_count": null,
   "metadata": {},
   "outputs": [],
   "source": [
    "results = list()\n",
    "for index, row in inputs.iterrows():\n",
    "    result = pd.read_csv(f'D:/Trading/ml4t-data/grid/{row[\"sim_name\"]}.csv')\n",
    "    result['margin_ratio'] = (result['margin_closeout'] / result['margin_used']).round(2)\n",
    "    header = list(inputs.columns) + ['ac_bal', 'min_margin_ratio', 'bars']\n",
    "    # print(type(row), type(results['ac_bal'].iloc[-1]))\n",
    "    results.append(list(row) + [result['ac_bal'].iloc[-1], result['margin_ratio'].min(), result.shape[0]])\n",
    "print(tabulate(results, header, tablefmt='plain'))\n",
    "# print(type(row.values), results['ac_bal'].iloc[-1])\n"
   ]
  },
  {
   "cell_type": "code",
   "execution_count": null,
   "metadata": {},
   "outputs": [],
   "source": [
    "results = pd.DataFrame(results, columns=header)\n",
    "results.to_csv('D:/Trading/ml4t-data/grid/EUR_USD-M1-1049-results.csv')"
   ]
  },
  {
   "cell_type": "code",
   "execution_count": null,
   "metadata": {},
   "outputs": [],
   "source": [
    "results[results.min_margin_ratio > 0].sort_values(by=['ac_bal'], ascending=False)"
   ]
  },
  {
   "cell_type": "code",
   "execution_count": null,
   "metadata": {},
   "outputs": [],
   "source": [
    "stop error"
   ]
  },
  {
   "cell_type": "code",
   "execution_count": null,
   "metadata": {},
   "outputs": [],
   "source": [
    "# results = pd.read_pickle(f'D:/Trading/ml4t-data/grid/EUR_USD-M5-3.pkl')\n",
    "results = pd.read_csv(f'D:/Trading/ml4t-data/grid/EUR_USD-M1-1001.csv')"
   ]
  },
  {
   "cell_type": "code",
   "execution_count": null,
   "metadata": {},
   "outputs": [],
   "source": [
    "results"
   ]
  },
  {
   "cell_type": "code",
   "execution_count": null,
   "metadata": {},
   "outputs": [],
   "source": [
    "# results = results['results'].copy()"
   ]
  },
  {
   "cell_type": "code",
   "execution_count": null,
   "metadata": {},
   "outputs": [],
   "source": [
    "# results = results[results['trade']==True]"
   ]
  },
  {
   "cell_type": "code",
   "execution_count": null,
   "metadata": {},
   "outputs": [],
   "source": [
    "results['net_bal'] = results['ac_bal'] + results['unrealised_pnl']\n",
    "results['cum_position'] = results['cum_long_position'] + results['cum_short_position']\n"
   ]
  },
  {
   "cell_type": "code",
   "execution_count": null,
   "metadata": {},
   "outputs": [],
   "source": [
    "results"
   ]
  },
  {
   "cell_type": "code",
   "execution_count": null,
   "metadata": {},
   "outputs": [],
   "source": [
    "results.info()"
   ]
  },
  {
   "cell_type": "code",
   "execution_count": null,
   "metadata": {},
   "outputs": [],
   "source": [
    "cp = CandlePlot(results, candles=False)\n",
    "cp.show_plot(line_traces=['mid_c'])"
   ]
  },
  {
   "cell_type": "code",
   "execution_count": null,
   "metadata": {},
   "outputs": [],
   "source": [
    "cp = CandlePlot(results, candles=False, log=True)\n",
    "cp.show_plot(line_traces=['ac_bal', 'net_bal', 'unrealised_pnl'])"
   ]
  },
  {
   "cell_type": "code",
   "execution_count": null,
   "metadata": {},
   "outputs": [],
   "source": [
    "cp = CandlePlot(results, candles=False, log=True)\n",
    "cp.show_plot(line_traces=['margin_used'])"
   ]
  },
  {
   "cell_type": "code",
   "execution_count": null,
   "metadata": {},
   "outputs": [],
   "source": [
    "cp = CandlePlot(results, candles=False, log=True)\n",
    "cp.show_plot(line_traces=['cum_long_position', 'cum_short_position'])"
   ]
  },
  {
   "cell_type": "code",
   "execution_count": null,
   "metadata": {},
   "outputs": [],
   "source": [
    "results['margin_used_50'] = results['margin_used'] * 0.5\n",
    "results['margin_call'] = results['margin_used_50'] > results['margin_closeout']\n",
    "results['margin_ratio'] = (results['margin_closeout'] / results['margin_used']).round(2)"
   ]
  },
  {
   "cell_type": "code",
   "execution_count": null,
   "metadata": {},
   "outputs": [],
   "source": [
    "cp = CandlePlot(results, candles=False, log=True)\n",
    "cp.show_plot(line_traces=['margin_ratio', 'margin_call'])"
   ]
  },
  {
   "cell_type": "code",
   "execution_count": null,
   "metadata": {},
   "outputs": [],
   "source": [
    "cp = CandlePlot(results, candles=False)\n",
    "cp.show_plot(line_traces=['margin_call'])"
   ]
  },
  {
   "cell_type": "code",
   "execution_count": null,
   "metadata": {},
   "outputs": [],
   "source": [
    "cp = CandlePlot(results, candles=False, log=True)\n",
    "cp.show_plot(line_traces=['ac_bal'])"
   ]
  }
 ],
 "metadata": {
  "kernelspec": {
   "display_name": "trade",
   "language": "python",
   "name": "python3"
  },
  "language_info": {
   "codemirror_mode": {
    "name": "ipython",
    "version": 3
   },
   "file_extension": ".py",
   "mimetype": "text/x-python",
   "name": "python",
   "nbconvert_exporter": "python",
   "pygments_lexer": "ipython3",
   "version": "3.10.13"
  }
 },
 "nbformat": 4,
 "nbformat_minor": 2
}
