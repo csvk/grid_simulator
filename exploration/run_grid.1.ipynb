{
 "cells": [
  {
   "cell_type": "code",
   "execution_count": null,
   "metadata": {},
   "outputs": [],
   "source": [
    "import pandas as pd\n",
    "import numpy as np\n",
    "import plotly.graph_objects as go\n",
    "from plotting import CandlePlot\n",
    "from gridoptim import run_optimizer\n",
    "pd.set_option(\"display.max_columns\", None)"
   ]
  },
  {
   "cell_type": "code",
   "execution_count": null,
   "metadata": {},
   "outputs": [],
   "source": [
    "run_optimizer(\n",
    "    checkpoint=1,\n",
    "    counter=4001,\n",
    "    start=None,\n",
    "    end=None,\n",
    "    tickers=['EUR_USD'],\n",
    "    frequency=['M5'],\n",
    "    init_bal=[1000],\n",
    "    init_trade_size=[1000],\n",
    "    grid_pips=[10, 20, 30],\n",
    "    sl_grid_count=[5, 10, 15, 20, 30, 50, 100],\n",
    "    stop_loss=['grid_count'],\n",
    "    margin_sl_percent=[0.90, 0.80, 0.70],\n",
    "    sizing=['dynamic', 'static'],\n",
    "    cash_out_factor=[2, 3, 4, 5, 10],\n",
    "    INPUTS_FILE='inputs.4.csv'\n",
    ")"
   ]
  }
 ],
 "metadata": {
  "kernelspec": {
   "display_name": "trade",
   "language": "python",
   "name": "python3"
  },
  "language_info": {
   "codemirror_mode": {
    "name": "ipython",
    "version": 3
   },
   "file_extension": ".py",
   "mimetype": "text/x-python",
   "name": "python",
   "nbconvert_exporter": "python",
   "pygments_lexer": "ipython3",
   "version": "3.10.13"
  }
 },
 "nbformat": 4,
 "nbformat_minor": 2
}
