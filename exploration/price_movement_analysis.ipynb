{
 "cells": [
  {
   "cell_type": "code",
   "execution_count": null,
   "metadata": {},
   "outputs": [],
   "source": [
    "import sys\n",
    "sys.path.append(\"../\")"
   ]
  },
  {
   "cell_type": "code",
   "execution_count": null,
   "metadata": {},
   "outputs": [],
   "source": [
    "import pandas as pd\n",
    "import numpy as np\n",
    "import datetime as dt\n",
    "from tqdm import tqdm\n",
    "import plotly.graph_objects as go\n",
    "from plotting import CandlePlot\n",
    "from data import Data\n",
    "pd.set_option(\"display.max_columns\", None)"
   ]
  },
  {
   "cell_type": "code",
   "execution_count": null,
   "metadata": {},
   "outputs": [],
   "source": [
    "data_path = '../data/'\n",
    "out_path = 'D:/Trading/ml4t-data/grid/'\n",
    "instruments = \"../data/instruments.json\"\n",
    "d = Data(source=\"../data/EUR_USD_M5.pkl\", ticker='EUR_USD', instruments=instruments)"
   ]
  },
  {
   "cell_type": "code",
   "execution_count": null,
   "metadata": {},
   "outputs": [],
   "source": [
    "our_cols = ['time', 'mid_c']\n",
    "\n",
    "add_cols = dict(\n",
    "            pip_returns=float,\n",
    "            move_1_begin=int,\n",
    "            move_1_pips=float,\n",
    "            move_1_direction=object,\n",
    "            move_2_begin=int,\n",
    "            move_2_pips=float,\n",
    "            move_2_direction=object,\n",
    "            move_3_begin=int,\n",
    "            move_3_pips=float,\n",
    "            move_3_direction=object,\n",
    "            move_4_begin=int,\n",
    "            move_4_pips=float,\n",
    "            move_4_direction=object,\n",
    "            move_5_begin=int,\n",
    "            move_5_pips=float,\n",
    "            move_5_direction=object,\n",
    "            move_6_begin=int,\n",
    "            move_6_pips=float,\n",
    "            move_6_direction=object,\n",
    "            move_7_begin=int,\n",
    "            move_7_pips=float,\n",
    "            move_7_direction=object,\n",
    "            move_8_begin=int,\n",
    "            move_8_pips=float,\n",
    "            move_8_direction=object,\n",
    "            move_9_begin=int,\n",
    "            move_9_pips=float,\n",
    "            move_9_direction=object,\n",
    "            move_10_begin=int,\n",
    "            move_10_pips=float,\n",
    "            move_10_direction=object,\n",
    "            move_11_begin=int,\n",
    "            move_11_pips=float,\n",
    "            move_11_direction=object,\n",
    "            move_12_begin=int,\n",
    "            move_12_pips=float,\n",
    "            move_12_direction=object,\n",
    "            move_13_begin=int,\n",
    "            move_13_pips=float,\n",
    "            move_13_direction=object,\n",
    "            move_14_begin=int,\n",
    "            move_14_pips=float,\n",
    "            move_14_direction=object,\n",
    "            move_15_begin=int,\n",
    "            move_15_pips=float,\n",
    "            move_15_direction=object,\n",
    "            move_16_begin=int,\n",
    "            move_16_pips=float,\n",
    "            move_16_direction=object,\n",
    "            move_17_begin=int,\n",
    "            move_17_pips=float,\n",
    "            move_17_direction=object,\n",
    "            move_18_begin=int,\n",
    "            move_18_pips=float,\n",
    "            move_18_direction=object,\n",
    "            move_19_begin=int,\n",
    "            move_19_pips=float,\n",
    "            move_19_direction=object,\n",
    "            move_20_begin=int,\n",
    "            move_20_pips=float,\n",
    "            move_20_direction=object,\n",
    "            moves_trend=object\n",
    "        )\n",
    "\n",
    "candles = d.datalen\n",
    "d.prepare_fast_data(name='ana2', start=0, end=candles, cols=our_cols, add_cols=add_cols)"
   ]
  },
  {
   "cell_type": "code",
   "execution_count": null,
   "metadata": {},
   "outputs": [],
   "source": [
    "MOVE_COUNT = 20\n",
    "PIPS = 10"
   ]
  },
  {
   "cell_type": "code",
   "execution_count": null,
   "metadata": {},
   "outputs": [],
   "source": [
    "def calc_pip_returns(price: np.ndarray) -> np.ndarray:\n",
    "    next_price = np.append(price[1:], np.nan)\n",
    "    return (next_price - price) * pow(10, 4)\n",
    "\n",
    "def calc_pip_returns(price: pd.Series) -> pd.Series:\n",
    "    prev_price = price.shift(1)\n",
    "    return (price - prev_price) * pow(10, 4)\n",
    "# d.update_fdata('pip_returns', value=calc_pip_returns(d.fdata('mid_c')))\n",
    "d.df['ana2']['pip_returns'] = calc_pip_returns(d.df['ana2']['mid_c'])"
   ]
  },
  {
   "cell_type": "code",
   "execution_count": null,
   "metadata": {},
   "outputs": [],
   "source": [
    "d.df['ana2'].head()"
   ]
  },
  {
   "cell_type": "code",
   "execution_count": null,
   "metadata": {},
   "outputs": [],
   "source": [
    "d.df['ana2']['pip_returns'].describe(percentiles=[0.0001, 0.001, 0.005, .01, .05, .1, .2, .3, .4, .5, .6, .7, .8, .9, .95, .99, .995, .999, .9999])"
   ]
  },
  {
   "cell_type": "code",
   "execution_count": null,
   "metadata": {},
   "outputs": [],
   "source": [
    "1.662000e+02 - 166"
   ]
  },
  {
   "cell_type": "code",
   "execution_count": null,
   "metadata": {},
   "outputs": [],
   "source": [
    "d.df['ana2']['pip_returns'].max()"
   ]
  },
  {
   "cell_type": "code",
   "execution_count": null,
   "metadata": {},
   "outputs": [],
   "source": [
    "# d.update_fdata('pip_returns', index=1, value=0)"
   ]
  },
  {
   "cell_type": "code",
   "execution_count": null,
   "metadata": {},
   "outputs": [],
   "source": [
    "d.df['ana2'].head()"
   ]
  },
  {
   "cell_type": "code",
   "execution_count": null,
   "metadata": {},
   "outputs": [],
   "source": [
    "# d.fastdf"
   ]
  },
  {
   "cell_type": "code",
   "execution_count": null,
   "metadata": {},
   "outputs": [],
   "source": [
    "# d.update_fdata('pip_returns', index=2, value=10)"
   ]
  },
  {
   "cell_type": "code",
   "execution_count": null,
   "metadata": {},
   "outputs": [],
   "source": [
    "# d.fdata('pip_returns', 2)"
   ]
  },
  {
   "cell_type": "code",
   "execution_count": null,
   "metadata": {},
   "outputs": [],
   "source": [
    "d.df['ana2']"
   ]
  },
  {
   "cell_type": "code",
   "execution_count": null,
   "metadata": {},
   "outputs": [],
   "source": [
    "for i in tqdm(range(candles), desc=\" Processing... \"):\n",
    "    pivot = i\n",
    "    for j in range(MOVE_COUNT):\n",
    "        # print(i, j, pivot)\n",
    "        if pivot + 1 > candles:\n",
    "            break\n",
    "        close_price, forward_close_prices = d.fdata('mid_c', index=pivot), d.fdata('mid_c', index=pivot+1, rows=5000)\n",
    "        pip_returns = np.round((forward_close_prices - close_price) * pow(10, 4), 2)\n",
    "        d.update_fdata(f'move_{j+1}_begin', i, pivot+1)\n",
    "        # target = pip_returns > PIPS or pip_returns < -PIPS\n",
    "        targetup = pip_returns >= PIPS\n",
    "        targetdown = pip_returns <= -PIPS\n",
    "        try:\n",
    "            pivotup = np.where(targetup)[0][0]\n",
    "        except:\n",
    "            pivotup = -1\n",
    "        try:\n",
    "            pivotdown = np.where(targetdown)[0][0]\n",
    "        except:\n",
    "            pivotdown = -1\n",
    "        if pivotup == -1 and pivotdown == -1:\n",
    "            break\n",
    "        elif pivotup >= 0 and pivotdown >= 0:\n",
    "            returns_pivot = min(pivotup, pivotdown)\n",
    "        elif pivotup == -1:\n",
    "            returns_pivot = pivotdown\n",
    "        elif pivotdown == -1:\n",
    "            returns_pivot = pivotup\n",
    "\n",
    "        # print(i, pivot, pivotup, pivotdown, pip_returns[pivot])\n",
    "        # try:\n",
    "        d.update_fdata(f'move_{j+1}_pips', i, pip_returns[returns_pivot])\n",
    "        d.update_fdata(f'move_{j+1}_direction', i, '1' if pip_returns[returns_pivot] > 0 else '0')\n",
    "        # except:\n",
    "        #     passp\n",
    "        pivot = pivot + returns_pivot + 1 # Update pivot to close timestamp: Close means when PIPS target met\n",
    "            "
   ]
  },
  {
   "cell_type": "code",
   "execution_count": null,
   "metadata": {},
   "outputs": [],
   "source": [
    "d.df['ana2']['moves_trend'].fillna(\"'\", inplace=True)\n",
    "for i in range(MOVE_COUNT):\n",
    "    d.df['ana2']['moves_trend'] = d.df['ana2']['moves_trend'] + d.df['ana2'][f'move_{i+1}_direction'].astype(str)"
   ]
  },
  {
   "cell_type": "code",
   "execution_count": null,
   "metadata": {},
   "outputs": [],
   "source": [
    "d.df['ana2']['moves_trend'] = d.df['ana2']['moves_trend'].str.replace('nan', '')"
   ]
  },
  {
   "cell_type": "code",
   "execution_count": null,
   "metadata": {},
   "outputs": [],
   "source": [
    "d.df['ana2'].head()"
   ]
  },
  {
   "cell_type": "code",
   "execution_count": null,
   "metadata": {},
   "outputs": [],
   "source": [
    "d.df['ana2'].info()"
   ]
  },
  {
   "cell_type": "code",
   "execution_count": null,
   "metadata": {},
   "outputs": [],
   "source": [
    "d.df['ana2'].to_csv('D:/Trading/ml4t-data/test5.csv')"
   ]
  },
  {
   "cell_type": "code",
   "execution_count": null,
   "metadata": {},
   "outputs": [],
   "source": [
    "# cp = CandlePlot(d.df['ana2'][['time','mid_c']][41440:415258], candles=False)\n",
    "# cp.show_plot()\n",
    "cp = CandlePlot(d.df['ana2'].iloc[41440:415258], candles=False)\n",
    "# cp.create_candle_fig()\n",
    "cp.show_plot(line_traces=['mid_c'])"
   ]
  }
 ],
 "metadata": {
  "kernelspec": {
   "display_name": "trade",
   "language": "python",
   "name": "python3"
  },
  "language_info": {
   "codemirror_mode": {
    "name": "ipython",
    "version": 3
   },
   "file_extension": ".py",
   "mimetype": "text/x-python",
   "name": "python",
   "nbconvert_exporter": "python",
   "pygments_lexer": "ipython3",
   "version": "3.10.13"
  }
 },
 "nbformat": 4,
 "nbformat_minor": 2
}
