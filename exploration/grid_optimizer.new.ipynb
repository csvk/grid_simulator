{
 "cells": [
  {
   "cell_type": "code",
   "execution_count": null,
   "metadata": {},
   "outputs": [],
   "source": [
    "from grid_optimizer import GridOptimizer"
   ]
  },
  {
   "cell_type": "code",
   "execution_count": null,
   "metadata": {},
   "outputs": [],
   "source": [
    "data_path = '../data/'\n",
    "out_path = 'D:/Trading/ml4t-data/grid/'\n",
    "instruments = \"../data/instruments.json\""
   ]
  },
  {
   "cell_type": "code",
   "execution_count": null,
   "metadata": {},
   "outputs": [],
   "source": [
    "checkpoint=0\n",
    "counter=8001\n",
    "start=0\n",
    "end=5000\n",
    "tickers=['EUR_USD']\n",
    "frequency=['M5']\n",
    "init_bal=[1000]\n",
    "init_trade_size=[1000]\n",
    "grid_pips=[10]\n",
    "sl_grid_count=[50]\n",
    "stop_loss_type=['grid_count_on_margin']\n",
    "margin_sl_percent=[0.90]\n",
    "sizing=['dynamic']\n",
    "cash_out_factor=[1.1, 1.9]\n",
    "inputs_file='inputs.8.csv'"
   ]
  },
  {
   "cell_type": "code",
   "execution_count": null,
   "metadata": {},
   "outputs": [],
   "source": [
    "optim = GridOptimizer(\n",
    "    checkpoint=checkpoint,\n",
    "    counter=counter,\n",
    "    start=start,\n",
    "    end=end,\n",
    "    tickers=tickers,\n",
    "    frequency=frequency,\n",
    "    init_bal=init_bal,      \n",
    "    init_trade_size=init_trade_size,\n",
    "    grid_pips=grid_pips,\n",
    "    sl_grid_count=sl_grid_count,\n",
    "    stop_loss_type=stop_loss_type,\n",
    "    margin_sl_percent=margin_sl_percent,\n",
    "    sizing=sizing,\n",
    "    cash_out_factor=cash_out_factor,\n",
    "    data_path=data_path,\n",
    "    instruments=instruments,\n",
    "    out_path=out_path,\n",
    "    inputs_file=inputs_file\n",
    ")"
   ]
  },
  {
   "cell_type": "code",
   "execution_count": null,
   "metadata": {},
   "outputs": [],
   "source": [
    "optim"
   ]
  },
  {
   "cell_type": "code",
   "execution_count": null,
   "metadata": {},
   "outputs": [],
   "source": [
    "optim.run_optimizer()"
   ]
  },
  {
   "cell_type": "code",
   "execution_count": null,
   "metadata": {},
   "outputs": [],
   "source": [
    "# from data import Data\n",
    "\n",
    "# df = optim.read_data(ticker=tickers[0], frequency=frequency[0]).iloc[start:end]\n",
    "\n",
    "# d = Data(\n",
    "#     source=df.copy(),\n",
    "#     ticker=tickers[0],\n",
    "#     cols=['time', 'mid_c', 'bid_c', 'ask_c'],\n",
    "#     instruments=instruments\n",
    "#     )"
   ]
  },
  {
   "cell_type": "code",
   "execution_count": null,
   "metadata": {},
   "outputs": [],
   "source": [
    "# d.ticker['marginRate']"
   ]
  },
  {
   "cell_type": "code",
   "execution_count": null,
   "metadata": {},
   "outputs": [],
   "source": [
    "# run_optimizer(\n",
    "#     checkpoint=1,\n",
    "#     counter=8001,\n",
    "#     start=1,\n",
    "#     end=5000,\n",
    "#     tickers=['EUR_USD'],\n",
    "#     frequency=['M5'],\n",
    "#     init_bal=[1000],\n",
    "#     init_trade_size=[1000],\n",
    "#     grid_pips=[10],\n",
    "#     sl_grid_count=[50],\n",
    "#     stop_loss=['margin_grid_count'],\n",
    "#     margin_sl_percent=[0.90],\n",
    "#     sizing=['dynamic'],\n",
    "#     cash_out_factor=[1.1],\n",
    "#     INPUTS_FILE='inputs.8a.csv'\n",
    "# )"
   ]
  },
  {
   "cell_type": "code",
   "execution_count": null,
   "metadata": {},
   "outputs": [],
   "source": [
    "# run_optimizer(\n",
    "#     checkpoint=1,\n",
    "#     counter=8001,\n",
    "#     start=None,\n",
    "#     end=None,\n",
    "#     tickers=['EUR_USD'],\n",
    "#     frequency=['M5'],\n",
    "#     init_bal=[1000],\n",
    "#     init_trade_size=[1000],\n",
    "#     grid_pips=[10, 20, 30, 40, 50, 60, 100],\n",
    "#     sl_grid_count=[5, 10, 15, 20, 30, 50, 100],\n",
    "#     stop_loss=['margin_grid_count'],\n",
    "#     margin_sl_percent=[0.90, 0.80, 0.70],\n",
    "#     sizing=['dynamic', 'static'],\n",
    "#     cash_out_factor=[1.1, 1.25, 1.5, 1.75],\n",
    "#     INPUTS_FILE='inputs.8.csv'\n",
    "# )"
   ]
  },
  {
   "cell_type": "code",
   "execution_count": 2,
   "metadata": {},
   "outputs": [
    {
     "data": {
      "text/plain": [
       "[['abc', 'xyz'], ['pqr', 'mno']]"
      ]
     },
     "execution_count": 2,
     "metadata": {},
     "output_type": "execute_result"
    }
   ],
   "source": [
    "l = [['abc', 'xyz'], ['pqr', 'mno']]\n",
    "l"
   ]
  },
  {
   "cell_type": "code",
   "execution_count": 5,
   "metadata": {},
   "outputs": [
    {
     "data": {
      "text/plain": [
       "[['abc', 'xyz'], ['pqr', 'jjj']]"
      ]
     },
     "execution_count": 5,
     "metadata": {},
     "output_type": "execute_result"
    }
   ],
   "source": [
    "l[-1][-1] = 'jjj'\n",
    "l"
   ]
  }
 ],
 "metadata": {
  "kernelspec": {
   "display_name": "trade",
   "language": "python",
   "name": "python3"
  },
  "language_info": {
   "codemirror_mode": {
    "name": "ipython",
    "version": 3
   },
   "file_extension": ".py",
   "mimetype": "text/x-python",
   "name": "python",
   "nbconvert_exporter": "python",
   "pygments_lexer": "ipython3",
   "version": "3.10.13"
  }
 },
 "nbformat": 4,
 "nbformat_minor": 2
}
